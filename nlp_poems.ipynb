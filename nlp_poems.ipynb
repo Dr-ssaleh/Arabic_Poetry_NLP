{
 "cells": [
  {
   "cell_type": "markdown",
   "metadata": {
    "id": "_AVItFrngCMO"
   },
   "source": [
    "---\n",
    "## Import packages"
   ]
  },
  {
   "cell_type": "code",
   "execution_count": null,
   "metadata": {
    "id": "xWqf8P9hX2iZ"
   },
   "outputs": [],
   "source": [
    " ''''\n",
    "    !pip install farasapy\n",
    "!pip install Tashaphyne==0.3.4.1\n",
    " !pip install wordcloud\n",
    " !pip install ar_wordcloud\n",
    "import nltk\n",
    "nltk.download('stopwords')\n",
    "nltk.download('punkt')\n",
    "gensim.download()\n",
    "''''"
   ]
  },
  {
   "cell_type": "code",
   "execution_count": 6,
   "metadata": {
    "id": "2fmn1hPhYoSa"
   },
   "outputs": [],
   "source": [
    "import pandas as pd\n",
    "import numpy as np\n",
    "\n",
    "import warnings\n",
    "warnings.filterwarnings('ignore')\n",
    "\n",
    "import matplotlib as mpl\n",
    "import matplotlib.pyplot as plt\n",
    "import seaborn as sns\n",
    "from matplotlib.gridspec import GridSpec\n",
    "\n",
    "import gensim, spacy, logging\n",
    "import gensim.corpora as corpora\n",
    "import gensim.utils \n",
    "import gensim.models \n",
    "\n"
   ]
  },
  {
   "cell_type": "code",
   "execution_count": 1,
   "metadata": {
    "id": "vVaOHVp_pMl_"
   },
   "outputs": [],
   "source": [
    "\n",
    "from ar_wordcloud import ArabicWordCloud\n",
    "\n",
    "import pyarabic.araby as araby\n",
    "import pyarabic.number as number\n",
    "from tashaphyne.stemming import ArabicLightStemmer\n",
    "import nltk\n",
    "from nltk.stem import WordNetLemmatizer,PorterStemmer\n",
    "from nltk.corpus import stopwords\n",
    "from nltk.tokenize import word_tokenize, sent_tokenize\n",
    "from nltk.util import ngrams\n",
    "from nltk.corpus import stopwords\n",
    "from nltk.stem.isri import ISRIStemmer"
   ]
  },
  {
   "cell_type": "code",
   "execution_count": 2,
   "metadata": {
    "id": "28CZQ0ajYvh8"
   },
   "outputs": [],
   "source": [
    "\n",
    "from sklearn.model_selection import train_test_split, GridSearchCV\n",
    "from sklearn.feature_extraction.text import TfidfVectorizer, CountVectorizer\n",
    "from sklearn.pipeline import make_pipeline\n",
    "from sklearn.linear_model import LogisticRegression\n",
    "from sklearn.ensemble import RandomForestClassifier\n",
    "from sklearn.svm import SVC\n",
    "from sklearn.metrics import confusion_matrix,accuracy_score, classification_report\n",
    "from sklearn.decomposition import LatentDirichletAllocation"
   ]
  },
  {
   "cell_type": "code",
   "execution_count": 3,
   "metadata": {
    "id": "9yBI9OlGY2IE"
   },
   "outputs": [],
   "source": [
    "import string\n",
    "import time\n",
    "import unicodedata as ud\n",
    "import arabic_reshaper\n",
    "import re"
   ]
  },
  {
   "cell_type": "code",
   "execution_count": 4,
   "metadata": {
    "id": "BTymGJ_WXOQr"
   },
   "outputs": [],
   "source": [
    "from farasa.pos import FarasaPOSTagger\n",
    "from farasa.ner import FarasaNamedEntityRecognizer\n",
    "from farasa.diacratizer import FarasaDiacritizer\n",
    "from farasa.segmenter import FarasaSegmenter\n",
    "from farasa.stemmer import FarasaStemmer"
   ]
  },
  {
   "cell_type": "markdown",
   "metadata": {
    "id": "NB5vk3KWXSkc"
   },
   "source": [
    "## Read and exploring the data"
   ]
  },
  {
   "cell_type": "code",
   "execution_count": 10,
   "metadata": {
    "colab": {
     "base_uri": "https://localhost:8080/",
     "height": 1000
    },
    "id": "i6eL5u1uZGer",
    "outputId": "6a7e0352-0a45-4d5c-ac30-c54d0a9923e5"
   },
   "outputs": [
    {
     "data": {
      "text/html": [
       "<div>\n",
       "<style scoped>\n",
       "    .dataframe tbody tr th:only-of-type {\n",
       "        vertical-align: middle;\n",
       "    }\n",
       "\n",
       "    .dataframe tbody tr th {\n",
       "        vertical-align: top;\n",
       "    }\n",
       "\n",
       "    .dataframe thead th {\n",
       "        text-align: right;\n",
       "    }\n",
       "</style>\n",
       "<table border=\"1\" class=\"dataframe\">\n",
       "  <thead>\n",
       "    <tr style=\"text-align: right;\">\n",
       "      <th></th>\n",
       "      <th>poem_id</th>\n",
       "      <th>poem_link</th>\n",
       "      <th>poem_style</th>\n",
       "      <th>poem_text</th>\n",
       "      <th>poem_title</th>\n",
       "      <th>poet_cat</th>\n",
       "      <th>poet_id</th>\n",
       "      <th>poet_link</th>\n",
       "      <th>poet_name</th>\n",
       "    </tr>\n",
       "  </thead>\n",
       "  <tbody>\n",
       "    <tr>\n",
       "      <th>0</th>\n",
       "      <td>21</td>\n",
       "      <td>http://www.adab.com/modules.php?name=Sh3er&amp;doW...</td>\n",
       "      <td>فصحى</td>\n",
       "      <td>عيناك غابتا نخيل ساعة السحر او شرفتان راح يناي...</td>\n",
       "      <td>أنشودة المطر</td>\n",
       "      <td>العراق</td>\n",
       "      <td>2</td>\n",
       "      <td>http://www.adab.com/modules.php?name=Sh3er&amp;doW...</td>\n",
       "      <td>بدر شاكر السياب</td>\n",
       "    </tr>\n",
       "    <tr>\n",
       "      <th>1</th>\n",
       "      <td>65546</td>\n",
       "      <td>http://www.adab.com/modules.php?name=Sh3er&amp;doW...</td>\n",
       "      <td>فصحى</td>\n",
       "      <td>انا لا ازال و في يدي قدحي ياليل اين تفرق الشر...</td>\n",
       "      <td>أقداح و أحلام</td>\n",
       "      <td>العراق</td>\n",
       "      <td>2</td>\n",
       "      <td>http://www.adab.com/modules.php?name=Sh3er&amp;doW...</td>\n",
       "      <td>بدر شاكر السياب</td>\n",
       "    </tr>\n",
       "    <tr>\n",
       "      <th>2</th>\n",
       "      <td>65561</td>\n",
       "      <td>http://www.adab.com/modules.php?name=Sh3er&amp;doW...</td>\n",
       "      <td>فصحى</td>\n",
       "      <td>علي مقلتيك ارتشفت النجوم وعانقت امالي الايبة ...</td>\n",
       "      <td>هوى واحد !</td>\n",
       "      <td>العراق</td>\n",
       "      <td>2</td>\n",
       "      <td>http://www.adab.com/modules.php?name=Sh3er&amp;doW...</td>\n",
       "      <td>بدر شاكر السياب</td>\n",
       "    </tr>\n",
       "    <tr>\n",
       "      <th>3</th>\n",
       "      <td>65554</td>\n",
       "      <td>http://www.adab.com/modules.php?name=Sh3er&amp;doW...</td>\n",
       "      <td>فصحى</td>\n",
       "      <td>اساطير من حشرجات الزمان نسيج اليد البالية رواه...</td>\n",
       "      <td>أساطير</td>\n",
       "      <td>العراق</td>\n",
       "      <td>2</td>\n",
       "      <td>http://www.adab.com/modules.php?name=Sh3er&amp;doW...</td>\n",
       "      <td>بدر شاكر السياب</td>\n",
       "    </tr>\n",
       "    <tr>\n",
       "      <th>4</th>\n",
       "      <td>65550</td>\n",
       "      <td>http://www.adab.com/modules.php?name=Sh3er&amp;doW...</td>\n",
       "      <td>فصحى</td>\n",
       "      <td>والتف حولك ساعداي ومال جيدك في اشتهاء كالزهرة ...</td>\n",
       "      <td>اللقاء الأخير</td>\n",
       "      <td>العراق</td>\n",
       "      <td>2</td>\n",
       "      <td>http://www.adab.com/modules.php?name=Sh3er&amp;doW...</td>\n",
       "      <td>بدر شاكر السياب</td>\n",
       "    </tr>\n",
       "    <tr>\n",
       "      <th>...</th>\n",
       "      <td>...</td>\n",
       "      <td>...</td>\n",
       "      <td>...</td>\n",
       "      <td>...</td>\n",
       "      <td>...</td>\n",
       "      <td>...</td>\n",
       "      <td>...</td>\n",
       "      <td>...</td>\n",
       "      <td>...</td>\n",
       "    </tr>\n",
       "    <tr>\n",
       "      <th>58016</th>\n",
       "      <td>86613</td>\n",
       "      <td>http://www.adab.com/modules.php?name=Sh3er&amp;doW...</td>\n",
       "      <td>فصحى</td>\n",
       "      <td>لروح صهيل لا تحويه الاوقات ذنبك انك تمتد علي ا...</td>\n",
       "      <td>الوقت</td>\n",
       "      <td>سوريا</td>\n",
       "      <td>755</td>\n",
       "      <td>http://www.adab.com/modules.php?name=Sh3er&amp;doW...</td>\n",
       "      <td>عز الدين اليوسف</td>\n",
       "    </tr>\n",
       "    <tr>\n",
       "      <th>58017</th>\n",
       "      <td>86614</td>\n",
       "      <td>http://www.adab.com/modules.php?name=Sh3er&amp;doW...</td>\n",
       "      <td>فصحى</td>\n",
       "      <td>اه لو اني ابني الشمس بعيني من طين هواء وسراب م...</td>\n",
       "      <td>الفلاح</td>\n",
       "      <td>سوريا</td>\n",
       "      <td>755</td>\n",
       "      <td>http://www.adab.com/modules.php?name=Sh3er&amp;doW...</td>\n",
       "      <td>عز الدين اليوسف</td>\n",
       "    </tr>\n",
       "    <tr>\n",
       "      <th>58018</th>\n",
       "      <td>86615</td>\n",
       "      <td>http://www.adab.com/modules.php?name=Sh3er&amp;doW...</td>\n",
       "      <td>فصحى</td>\n",
       "      <td>في عينيك يا امي لماذا الدمع منتظم كعقد الءلء ا...</td>\n",
       "      <td>أمّي</td>\n",
       "      <td>سوريا</td>\n",
       "      <td>755</td>\n",
       "      <td>http://www.adab.com/modules.php?name=Sh3er&amp;doW...</td>\n",
       "      <td>عز الدين اليوسف</td>\n",
       "    </tr>\n",
       "    <tr>\n",
       "      <th>58019</th>\n",
       "      <td>86616</td>\n",
       "      <td>http://www.adab.com/modules.php?name=Sh3er&amp;doW...</td>\n",
       "      <td>فصحى</td>\n",
       "      <td>النوم يوقظ طرفي الظامي علي لحن تموج من بعيد ار...</td>\n",
       "      <td>عن اللحن</td>\n",
       "      <td>سوريا</td>\n",
       "      <td>755</td>\n",
       "      <td>http://www.adab.com/modules.php?name=Sh3er&amp;doW...</td>\n",
       "      <td>عز الدين اليوسف</td>\n",
       "    </tr>\n",
       "    <tr>\n",
       "      <th>58020</th>\n",
       "      <td>86617</td>\n",
       "      <td>http://www.adab.com/modules.php?name=Sh3er&amp;doW...</td>\n",
       "      <td>فصحى</td>\n",
       "      <td>السلم الذي نزلت فيه لسماء سلم من الجنان جاء او...</td>\n",
       "      <td>السلم</td>\n",
       "      <td>سوريا</td>\n",
       "      <td>755</td>\n",
       "      <td>http://www.adab.com/modules.php?name=Sh3er&amp;doW...</td>\n",
       "      <td>عز الدين اليوسف</td>\n",
       "    </tr>\n",
       "  </tbody>\n",
       "</table>\n",
       "<p>58021 rows × 9 columns</p>\n",
       "</div>"
      ],
      "text/plain": [
       "       poem_id                                          poem_link poem_style  \\\n",
       "0           21  http://www.adab.com/modules.php?name=Sh3er&doW...       فصحى   \n",
       "1        65546  http://www.adab.com/modules.php?name=Sh3er&doW...       فصحى   \n",
       "2        65561  http://www.adab.com/modules.php?name=Sh3er&doW...       فصحى   \n",
       "3        65554  http://www.adab.com/modules.php?name=Sh3er&doW...       فصحى   \n",
       "4        65550  http://www.adab.com/modules.php?name=Sh3er&doW...       فصحى   \n",
       "...        ...                                                ...        ...   \n",
       "58016    86613  http://www.adab.com/modules.php?name=Sh3er&doW...       فصحى   \n",
       "58017    86614  http://www.adab.com/modules.php?name=Sh3er&doW...       فصحى   \n",
       "58018    86615  http://www.adab.com/modules.php?name=Sh3er&doW...       فصحى   \n",
       "58019    86616  http://www.adab.com/modules.php?name=Sh3er&doW...       فصحى   \n",
       "58020    86617  http://www.adab.com/modules.php?name=Sh3er&doW...       فصحى   \n",
       "\n",
       "                                               poem_text      poem_title  \\\n",
       "0      عيناك غابتا نخيل ساعة السحر او شرفتان راح يناي...   أنشودة المطر    \n",
       "1       انا لا ازال و في يدي قدحي ياليل اين تفرق الشر...  أقداح و أحلام    \n",
       "2       علي مقلتيك ارتشفت النجوم وعانقت امالي الايبة ...     هوى واحد !    \n",
       "3      اساطير من حشرجات الزمان نسيج اليد البالية رواه...         أساطير    \n",
       "4      والتف حولك ساعداي ومال جيدك في اشتهاء كالزهرة ...  اللقاء الأخير    \n",
       "...                                                  ...             ...   \n",
       "58016  لروح صهيل لا تحويه الاوقات ذنبك انك تمتد علي ا...          الوقت    \n",
       "58017  اه لو اني ابني الشمس بعيني من طين هواء وسراب م...         الفلاح    \n",
       "58018  في عينيك يا امي لماذا الدمع منتظم كعقد الءلء ا...           أمّي    \n",
       "58019  النوم يوقظ طرفي الظامي علي لحن تموج من بعيد ار...      عن اللحن     \n",
       "58020  السلم الذي نزلت فيه لسماء سلم من الجنان جاء او...          السلم    \n",
       "\n",
       "      poet_cat  poet_id                                          poet_link  \\\n",
       "0       العراق        2  http://www.adab.com/modules.php?name=Sh3er&doW...   \n",
       "1       العراق        2  http://www.adab.com/modules.php?name=Sh3er&doW...   \n",
       "2       العراق        2  http://www.adab.com/modules.php?name=Sh3er&doW...   \n",
       "3       العراق        2  http://www.adab.com/modules.php?name=Sh3er&doW...   \n",
       "4       العراق        2  http://www.adab.com/modules.php?name=Sh3er&doW...   \n",
       "...        ...      ...                                                ...   \n",
       "58016    سوريا      755  http://www.adab.com/modules.php?name=Sh3er&doW...   \n",
       "58017    سوريا      755  http://www.adab.com/modules.php?name=Sh3er&doW...   \n",
       "58018    سوريا      755  http://www.adab.com/modules.php?name=Sh3er&doW...   \n",
       "58019    سوريا      755  http://www.adab.com/modules.php?name=Sh3er&doW...   \n",
       "58020    سوريا      755  http://www.adab.com/modules.php?name=Sh3er&doW...   \n",
       "\n",
       "             poet_name  \n",
       "0      بدر شاكر السياب  \n",
       "1      بدر شاكر السياب  \n",
       "2      بدر شاكر السياب  \n",
       "3      بدر شاكر السياب  \n",
       "4      بدر شاكر السياب  \n",
       "...                ...  \n",
       "58016  عز الدين اليوسف  \n",
       "58017  عز الدين اليوسف  \n",
       "58018  عز الدين اليوسف  \n",
       "58019  عز الدين اليوسف  \n",
       "58020  عز الدين اليوسف  \n",
       "\n",
       "[58021 rows x 9 columns]"
      ]
     },
     "execution_count": 10,
     "metadata": {},
     "output_type": "execute_result"
    }
   ],
   "source": [
    "df = pd.read_csv('all_poems.csv')\n",
    "df"
   ]
  },
  {
   "cell_type": "code",
   "execution_count": 11,
   "metadata": {
    "colab": {
     "base_uri": "https://localhost:8080/"
    },
    "id": "YnDQKTIHZdXA",
    "outputId": "31aa7aba-b106-471a-b5d4-7f127c0be374"
   },
   "outputs": [
    {
     "name": "stdout",
     "output_type": "stream",
     "text": [
      "<class 'pandas.core.frame.DataFrame'>\n",
      "RangeIndex: 58021 entries, 0 to 58020\n",
      "Data columns (total 9 columns):\n",
      " #   Column      Non-Null Count  Dtype \n",
      "---  ------      --------------  ----- \n",
      " 0   poem_id     58021 non-null  int64 \n",
      " 1   poem_link   58021 non-null  object\n",
      " 2   poem_style  58021 non-null  object\n",
      " 3   poem_text   58020 non-null  object\n",
      " 4   poem_title  58021 non-null  object\n",
      " 5   poet_cat    58021 non-null  object\n",
      " 6   poet_id     58021 non-null  int64 \n",
      " 7   poet_link   58021 non-null  object\n",
      " 8   poet_name   58021 non-null  object\n",
      "dtypes: int64(2), object(7)\n",
      "memory usage: 4.0+ MB\n"
     ]
    }
   ],
   "source": [
    "df.info()"
   ]
  },
  {
   "cell_type": "code",
   "execution_count": 12,
   "metadata": {
    "colab": {
     "base_uri": "https://localhost:8080/"
    },
    "id": "u8qzXhX9Zjmd",
    "outputId": "115330eb-c519-410c-a513-c0a4b087950d"
   },
   "outputs": [
    {
     "data": {
      "text/plain": [
       "0"
      ]
     },
     "execution_count": 12,
     "metadata": {},
     "output_type": "execute_result"
    }
   ],
   "source": [
    "df.duplicated().sum()"
   ]
  },
  {
   "cell_type": "code",
   "execution_count": 13,
   "metadata": {
    "id": "AZL5u776ZwSS"
   },
   "outputs": [],
   "source": [
    "df.drop_duplicates(inplace = True)"
   ]
  },
  {
   "cell_type": "code",
   "execution_count": 14,
   "metadata": {
    "colab": {
     "base_uri": "https://localhost:8080/",
     "height": 1000
    },
    "id": "rJ07x90OjpkX",
    "outputId": "ce99d96c-75f2-4383-d13d-c6b5d0afadea"
   },
   "outputs": [
    {
     "data": {
      "text/html": [
       "<div>\n",
       "<style scoped>\n",
       "    .dataframe tbody tr th:only-of-type {\n",
       "        vertical-align: middle;\n",
       "    }\n",
       "\n",
       "    .dataframe tbody tr th {\n",
       "        vertical-align: top;\n",
       "    }\n",
       "\n",
       "    .dataframe thead th {\n",
       "        text-align: right;\n",
       "    }\n",
       "</style>\n",
       "<table border=\"1\" class=\"dataframe\">\n",
       "  <thead>\n",
       "    <tr style=\"text-align: right;\">\n",
       "      <th></th>\n",
       "      <th>poem_id</th>\n",
       "      <th>poem_link</th>\n",
       "      <th>poem_style</th>\n",
       "      <th>poem_text</th>\n",
       "      <th>poem_title</th>\n",
       "      <th>poet_cat</th>\n",
       "      <th>poet_id</th>\n",
       "      <th>poet_link</th>\n",
       "      <th>poet_name</th>\n",
       "    </tr>\n",
       "  </thead>\n",
       "  <tbody>\n",
       "    <tr>\n",
       "      <th>0</th>\n",
       "      <td>21</td>\n",
       "      <td>http://www.adab.com/modules.php?name=Sh3er&amp;doWhat=shqas&amp;qid=21&amp;r=&amp;rc=0</td>\n",
       "      <td>فصحى</td>\n",
       "      <td>عيناك غابتا نخيل ساعة السحر او شرفتان راح يناي عنهما القمر عيناك حين تبسمان تورق الكروم وترقص الاضواء كالاقمار في نهر يرجه المجذاف وهنا ساعة السحر كانما تنبض في غوريهما النجوم وتغرقان في ضباب من اسي شفيف كالبحر سرح اليدين فوقه المساء دفء الشتاء فيه وارتعاشة الخريف والموت والميلاد والظلام والضياء فتستفيق ملء روحي رعشة البكاء ونشوة وحشية تعانق السماء كنشوة الطفل اذا خاف من القمر كان اقواس السحاب تشرب الغيوم وقطرة فقطرة تذوب في المطر وكركر الاطفال في عراءش الكروم ودغدغت صمت العصافير علي الشجر انشودة المطر مطر مطر مطر تثاءب المساء والغيوم ما تزال تسح ما تسح من دموعها الثقال كان طفلا بات يهذي قبل ان ينام بان امه – التي افاق منذ عام فلم يجدها ثم حين لج في السءال قالوا له \"بعد غد تعود \" لا بد ان تعود وان تهامس الرفاق انها هناك في جانب التل تنام نومة الحود تسف من ترابها وتشرب المطر كان صيادا حزينا يجمع الشباك ويلعن المياه والقدر وينثر الغناء حيث يافل القمر مطر مطر اتعلمين اي حزن يبعث المطر وكيف تنشج المزاريب اذا انهمر وكيف يشعر الوحيد فيه بالضياع بلا انتهاء – كالدم المراق كالجياع كالحب كالاطفال كالموتي – هو المطر ومقلتاك بي تطيفان مع المطر وعبر امواج الخليج تمسح البروق سواحل العراق بالنجوم والمحار كانها تهم بالشروق فيسحب اليل عليها من دم دثار اصيح بالخليج \" يا خليج يا واهب الءلء والمحار والردي \" فيرجع الصدي كانه النشيج \" يا خليج يا واهب المحار والردي \" اكاد اسمع العراق يذخر الرعود ويخزن البروق في السهول والجبال حتي اذا ما فض عنها ختمها الرجال لم ترك الرياح من ثمود في الواد من اثر اكاد اسمع النخيل يشرب المطر واسمع القري تءن والمهاجرين يصارعون بالمجاذيف وبالقلوع عواصف الخليج والرعود منشدين \" مطر مطر مطر وفي العراق جوع وينثر الغلال فيه موسم الحصاد لتشبع الغربان والجراد وتطحن الشوان والحجر رحي تدور في الحقول حولها بشر مطر مطر مطر وكم ذرفنا ليلة الرحيل من دموع ثم اعتلنا – خوف ان نلام – بالمطر مطر مطر ومنذ ان كنا صغارا كانت السماء تغيم في الشتاء ويهطل المطر وكل عام – حين يعشب الثري – نجوع ما مر عام والعراق ليس فيه جوع مطر مطر مطر في كل قطرة من المطر حمراء او صفراء من اجنة الزهر وكل دمعة من الجياع والعراة وكل قطرة تراق من دم العبيد فهي ابتسام في انتظار مبسم جديد او حلمة توردت علي فم الوليد في عالم الغد الفتي واهب الحياة مطر مطر مطر سيعشب العراق بالمطر \" اصيح بالخليج \" يا خليج يا واهب الءلء والمحار والردي \" فيرجع الصدي كانه النشيج \" يا خليج يا واهب المحار والردي \" وينثر الخليج من هباته الكثار علي الرمال رغوه الاجاج والمحار وما تبقي من عظام باءس غريق من المهاجرين ظل يشرب الردي من لجة الخليج والقرار وفي العراق الف افعي تشرب الرحيق من زهرة يربها الفرات بالندي واسمع الصدي يرن في الخليج \" مطر مطر مطر في كل قطرة من المطر حمراء او صفراء من اجنة الزهر وكل دمعة من الجياع والعراة وكل قطرة تراق من دم العبيد فهي ابتسام في انتظار مبسم جديد او حلمة توردت علي فم الوليد في عالم الغد الفتي واهب الحياة \" ويهطل المطر</td>\n",
       "      <td>أنشودة المطر</td>\n",
       "      <td>العراق</td>\n",
       "      <td>2</td>\n",
       "      <td>http://www.adab.com/modules.php?name=Sh3er&amp;doWhat=lsq&amp;shid=2&amp;start=0</td>\n",
       "      <td>بدر شاكر السياب</td>\n",
       "    </tr>\n",
       "    <tr>\n",
       "      <th>1</th>\n",
       "      <td>65546</td>\n",
       "      <td>http://www.adab.com/modules.php?name=Sh3er&amp;doWhat=shqas&amp;qid=65546&amp;r=&amp;rc=1</td>\n",
       "      <td>فصحى</td>\n",
       "      <td>انا لا ازال و في يدي قدحي ياليل اين تفرق الشرب ما زلت اشربها و اشربها حتي ترنح افقك الرحب الشرق عفر بالضباب فما يبدو فاين سناك يا غرب ما لنجوم غرقن من سام في ضوءهن و كادت الشهب انا لا ازال و في يدي قدحي ياليل اين تفرق الشرب ****** الحان بالشهوات مصطخب حتي يكاد بهن ينهار و كان مصاحبيه من ضرج كفان مدهما لي العار كفان بل ثغران قد صبغا بدم تدفق منه تيار كاسان ملءهما طلي عصرت من مهجتين رماهما الحب او مخلبان عليهما مزق حمراء تزعم انها قلب ****** الخمر جمعت الدهور , ومافيهن بين جوانب الحان ياويحها اسكرت ام سكرتام نحن في السكرات سيان رمت العوالم والدهور علي ثغري وفوق يدي واجفاني كفي تمد فما تناولني كاسا لعيني خمرها نهب واصافح الدنيا فياعجبا البعد لان واعرض القرب ****** يا ليل اين تطوف بي قدمي في اي منعرج من الظلم تلك السبيل اكاد اعرفها بالامس خاصر طيفها حلمي هي غمد خنجرك الرهيب و قد جردته و مسحت عنه دمي تلك السبيل علي جوانبها تمزق الخطوات او تكبو تثاءب الاجساد جاءعة فيها كما يتثاءب الذءب حسناء يلهب عريها ظماي فاكاد اشرب ذلك العريا و اكاد احطمه فتحطمني عينان جاءعتان كالدنيا غرست يد الحمي علي فمها زهرا طوي شهواتها طيا ان فتحته بحرها شفة سكري يعربد فوقها ندب رقص الهيب علي كماءمه و مشي الطلاء يهزه الوثب عين يرنح هدبها نفسي وفم يقطع همسه الداء ويد علي كتفي مجلجلة رباه ويك اتلك حواء لا كنت ادمها و لا لفحت فردوسي الخمري صحراء صوت النعاس يرن في افقي فتذوب ناعسة به السحب ان الفراش يقيك ياقدمي سوء العثار اذا دجي درب ****** انا حاءر متوجف قلق كالظل بين جوانب البحر المد قربني الي شبحي والان تبعدني يد الجزر وانا الضياء تخيفني دجن واخاف ان ساضيع في الفجر يانوم كل عوالمي حجب ولو التقيتك ذابت الحجب و انثال من سهري علي سهري ينبوعك المتثاءب الرطب اثملت بين جوانحي املا ماكنت اعلم انه امل مثل الفراشة عاد يحبسها دوح بذاءب طله خضل لولا خفوق جناحها غفلت بيض الازاهر عنه والمقل انا من ظلالك بين اودية عذراء كل سهادها عشب هام الضباب علي جوانبها طل الوشاح كنجمة تخبو ****** انا كوكب ظمان ترعشه نطف مءرجة من السحر انا غير جسمي عالمي حلم بكر الظلال ولمحه عمري قلبي تغرب عن احبته وانسل من نغماته وتري فاذا لثمت فغير خادعة بات لكل مخادع تصبو واذا شدوت ارن في افق عبر السماء غناءي العذب ****** هو يافءادي طيفها مسحت عنه التراب انامل الغسق هو غير تلك اما تري القا هو من دماءك انت من حرقي هو غيرها غدرت وبادلني حبي و ضمد بالسنا افقي ومن المهازل ان يري امدا بين الخيانة و الهوي _ هدب اين العوالم كيف غيرها نوم يرف وخاطر صب ****** خفقت ذواءبها علي شفتي و سني فاسكر عطرها نفسي نهر من النفحات ارشفني ريحا تريب مجامر الغلس فكان نايا ضمخته يدا اذار ناغم ليلة العرس فغفا و ما زالت ملاحنه ملء الفضاء يعيدها الحب او ان سوسنة يراقصها رجع الغناء بشعرها تربو ****** ياقبلة اخذت علي عجل افدي بعمري ذلك العجلا الشعر ستر بالظلال فمي فهوي علي الوجنات واشتعلا فعلي جوانبهن منه سنا يدعوه من جهل الهوي خجلا فضح احمرارك ياخدود فما زال يفضحني بما يحبو هو طفلك الاهي ينازعه ابدا الي زهراتك العب ****** يا جسم ذاك الطيف ايا شبحا من ذكرياتي يا هوي خدعا لعناتي الحنقات ما برحت تعتاد خدرك و الظلام معا خفقت باجنحة الغراب علي عينيك تنشر حولك الفزعا الصبح صبحك ضحك شامتة دام و ليلك مضجع ينبو و اذا هلكت غدا فلا تجدي قبرا و مزق صدرك الذءب ****** و البوم يملا عشه نتفا من شعرك المتعفر الضجر و يعود ثغرك لذباب لقي و يداك مثقلتان بالحجر لا تدفعان اذاه عن شفة بالامس اخرس لغوها و تري و ليسق من دمك الخبث غدا دوح تعش فوقه الغرب تاوي الصلال الي جوانبه غرثي و يعوي تحته الكلب ****** ويعود من خشباته نزق جان بمقبض خنجر دام ويعد منه سرير زانية تهوي فتثقله باثام وتظل اعواد المشانق من اعواده كسيت باجسام حتي اذا عصف الذبول به وهوي عليه المعول العضب كان الوقود لقدر ساحرة بين المقابر شانها القشب</td>\n",
       "      <td>أقداح و أحلام</td>\n",
       "      <td>العراق</td>\n",
       "      <td>2</td>\n",
       "      <td>http://www.adab.com/modules.php?name=Sh3er&amp;doWhat=lsq&amp;shid=2&amp;start=0</td>\n",
       "      <td>بدر شاكر السياب</td>\n",
       "    </tr>\n",
       "    <tr>\n",
       "      <th>2</th>\n",
       "      <td>65561</td>\n",
       "      <td>http://www.adab.com/modules.php?name=Sh3er&amp;doWhat=shqas&amp;qid=65561&amp;r=&amp;rc=2</td>\n",
       "      <td>فصحى</td>\n",
       "      <td>علي مقلتيك ارتشفت النجوم وعانقت امالي الايبة وسابقت حتي جناح الخيال بروحي الي روحك الواثبة اطلت فكانت سنا ذاءبا بعينيك في بسمة ذاءبة * انت التي ردتها مناي اناشيد تحت ضياء القمر تغني بها في ليالي الربيع فتحلم ازهاره بالمطر ويمضي صداها يهز الضياء ويغفو علي الزورق المنتظر * خذي الكاس بلي صداك العميق بما ارتج في قاعها من شراب خذي الكاس لا جف ذاك الرحيق و الا صدي هامس في القرار الا ليتني ما سقيت التراب * خذي الكاس اني زرعت الكروم علي قبر ذاك الهوي الخاسر فاعراقها تستعيد الشراب وتشتفه من يد العاصر خذي الكاس اني نسيت الزمان فما في حياتي سوي حاضر * وكان انتظار لهذا الهوي جلوسي علي الشاطيء المقفر وارسال طرفي يجوب العباب ويرتد عن افقه الاسمر الي ان اهل الشراع الضحوك وقالت لك الامنيات انظري * انكرت حتي هواك الجوج وقلبي واشواقك العارمة وضلت في وهدة الكبرياء صداها فيا لك من ظالمة تجنيت حتي حسبت النعاس ذبولا علي الزهرة الناءمة * اتنسين تحت التماع النجوم خطانا وانفاسنا الواجفة وكيف احتضنا صدي في القلوب تغني به القبلة الراجفة صدي لج احتراق الشفاة وما زال في غيهب العاطفة * ورانت علي الاعين الوامقات ظلال من القبلة الناءية تنادي بها رغبة في الشفاة ويمنعها الشك والواشية فترتج عن ضغطة في اليدين جكعنا بها الدهر في ثانية * شقيقة روحي الا تذكرين نداء سيبقي يجوب السنين وهمس من الانجم الحالمات يهز التماعاتها بالرنين تسل من فجوة في الستار اليك وقال الا تذكرين * تعالي فما زال في مقلتي سنا ماج فيه اتقاد الفءاد كما لاح في الجدول المطمءن خيال الظي والنجوم البعاد فلا تزعمي ان هذا جليد ولا تزعمي ان هذا رماد</td>\n",
       "      <td>هوى واحد !</td>\n",
       "      <td>العراق</td>\n",
       "      <td>2</td>\n",
       "      <td>http://www.adab.com/modules.php?name=Sh3er&amp;doWhat=lsq&amp;shid=2&amp;start=0</td>\n",
       "      <td>بدر شاكر السياب</td>\n",
       "    </tr>\n",
       "    <tr>\n",
       "      <th>3</th>\n",
       "      <td>65554</td>\n",
       "      <td>http://www.adab.com/modules.php?name=Sh3er&amp;doWhat=shqas&amp;qid=65554&amp;r=&amp;rc=3</td>\n",
       "      <td>فصحى</td>\n",
       "      <td>اساطير من حشرجات الزمان نسيج اليد البالية رواها ظلام من الهاوية وغني بها ميتان اساطير كالبيد ماج سراب عليها وشقت بقايا شهاب وابصرت فيها بريق النضار يلاقي سدي من ظلال الرغيف وابصرتني والستار الكثيف يواريك عني فضاع انتظار وخابت مني وانتهي عاشقان ** اساطير مثل المدي القاسيات تلاوينها من دم الباءسين فكم اومضت في عيون الطغاة بما حملت من غبار السنين يقولون وحي السماء فلو يسمع الانبياء لما قهقهت ظلمة الهاوية باسطورة بالية تجر القرون بمركبة من لظي في جنون لظي كالجنون ** وهذا الغرام الجوج ايريد من لمسة باردة علي اصبع من خيال الثلوج واسطورة باءدة وعرافة اطلقت في الرمال بقايا سءال وعينين تستطلعان الغيوب وتستشرقان الدروب فكان ابتهال وكانت صلاة تغفر وجه الالة وتحنو عليه انطباق الشفاة ** تعالي فما زال نجم المساء يذيب السنا في النهار الغريق ويغشي سكون الطريق بلونين من ومضة واطفاء وهمس الهول الثقيل بدفء الشذي واكتءاب الغروب يذكرني بالرحيل شراع خلال التحايا يذوب وكف تلوح يا لعذاب ** تعالي فما زال لون السحاب حزينا يذكرني بالرحيل رحيل تعالي تعالي نذيب الزمان وساعة في عناق طويل ونصبح بالارجوان شراعا وراء المدي ونسي الغدا علي صدرك الدافء العاطر كتهويمة الشاعر تعالي فملء الفضاء صدي هامس بالقاء يوسوس دون انتهاء ** علي مقلتيك انتظار بعيد وشيء يءيد ظلال يغمغم في جانبيها سءال وشوق حزين يريد اعتصار السراب وتمزيق اسطورة الاولين فيا لعذاب جناحان خلف الحجاب شراع وغمغمة بالوداع</td>\n",
       "      <td>أساطير</td>\n",
       "      <td>العراق</td>\n",
       "      <td>2</td>\n",
       "      <td>http://www.adab.com/modules.php?name=Sh3er&amp;doWhat=lsq&amp;shid=2&amp;start=0</td>\n",
       "      <td>بدر شاكر السياب</td>\n",
       "    </tr>\n",
       "    <tr>\n",
       "      <th>4</th>\n",
       "      <td>65550</td>\n",
       "      <td>http://www.adab.com/modules.php?name=Sh3er&amp;doWhat=shqas&amp;qid=65550&amp;r=&amp;rc=4</td>\n",
       "      <td>فصحى</td>\n",
       "      <td>والتف حولك ساعداي ومال جيدك في اشتهاء كالزهرة الوسني فما احست الا والشفاة فوق الشفاة ولمساء عطر يضوع فتسكرين به واسكر من شذاه في الجيد والفم والذراع فاغيب في افق بعيد مثلما ذاب الشراع في ارجوان الشاطء الناءي واوغل في مداه شفتاك في شفتي عالقتان والنجم الضءيل يلقي سناه علي بقايا راعشات من عناق ثم ارتخت عني يداك واطبق الصمت الثقيل يا نشوة عبري واعفاء علي ظل الفراق حلوا كاغماء الفراشة من ذهول وانتشاء دوما الي غير انتهاء يا همسة فوق الشفاة ذابت فكانت شبه اه يا سكرة مثل ارتجافات الغروب الهاءمات رانت كما سكن الجناح وقد تناءي في الفضاء غرقي الي غير انتهاء مثل النجوم الافلات لا لن تراني لن اعود هيهات لكن الوعود تبقي تلح فخف انت وسوف اتي في الخيال يوما اذا ما جءت انت وربما سال الضياء فوق الوجوه الضاحكات وقد نسيت وما يزال بين الاراءك موضع خال يحدق في غباء هذا الفراغ اما تحس به يحدق في وجوم هذا الفراغ انا الفراغ فخف انت لكي يدوم هذا هواليوم الاخير واحسرتاه اتصدقين الن تخف الي لقاء هذا هو اليوم الاخير فليته دون انتهاء ليت الكواكب لا تسير والساعة العجلي تنام علي الزمان فلا تفيق خلفتني وحدي اسير الي السراب بلا رفيق يا لعذاب اما بوسعك ان تقولي يعجزون عنا فماذا يصنعون لو اني حان القاء فاقتادني نجم المساء في غمرة لا استفيق الا وانت خصري تحت اضواء الطريق ليل ونافذة تضاء تقول انك تسهرين اني احسك تهمسين في ذلك الصمت الميت الن تخف الي لقاء ليل ونافذة تضاء تغشي رءاي وانت فيها ثم ينحل الشعاع في ظلمة اليل العميق ويلوح ظلك من بعيد وهو يومء بالوداع واظل وحدي في الطريق</td>\n",
       "      <td>اللقاء الأخير</td>\n",
       "      <td>العراق</td>\n",
       "      <td>2</td>\n",
       "      <td>http://www.adab.com/modules.php?name=Sh3er&amp;doWhat=lsq&amp;shid=2&amp;start=0</td>\n",
       "      <td>بدر شاكر السياب</td>\n",
       "    </tr>\n",
       "    <tr>\n",
       "      <th>...</th>\n",
       "      <td>...</td>\n",
       "      <td>...</td>\n",
       "      <td>...</td>\n",
       "      <td>...</td>\n",
       "      <td>...</td>\n",
       "      <td>...</td>\n",
       "      <td>...</td>\n",
       "      <td>...</td>\n",
       "      <td>...</td>\n",
       "    </tr>\n",
       "    <tr>\n",
       "      <th>58016</th>\n",
       "      <td>86613</td>\n",
       "      <td>http://www.adab.com/modules.php?name=Sh3er&amp;doWhat=shqas&amp;qid=86613&amp;r=&amp;rc=7</td>\n",
       "      <td>فصحى</td>\n",
       "      <td>لروح صهيل لا تحويه الاوقات ذنبك انك تمتد علي اكتاف الموج وتقفوك الشرفات خبءت الصمت علي شفتيك سماوات وعروس النيل اقفلت الاقداح علي رشفتك الاولي فتراءي من بين التهميش زفير تعبده المراة لونك يتواتره الطيف كما تواتر في النفي الذات حزم الوقت تزمل في نشوي الصلوات خبء لرحلة جسدا تكون في سهو القبلات اسرف في اليل رحيقا يمتزج بحلم النجمات لبس الءلء لمعانا سرق العمق من الظلمات حمل حقيقته نهرا يسقيه النور من السبحات كخشوع سنابلها يهمي يحمي الرمل من الزلات ادرك رتبته صمتا فالصمت سجود الكلمات</td>\n",
       "      <td>الوقت</td>\n",
       "      <td>سوريا</td>\n",
       "      <td>755</td>\n",
       "      <td>http://www.adab.com/modules.php?name=Sh3er&amp;doWhat=lsq&amp;shid=755&amp;start=0</td>\n",
       "      <td>عز الدين اليوسف</td>\n",
       "    </tr>\n",
       "    <tr>\n",
       "      <th>58017</th>\n",
       "      <td>86614</td>\n",
       "      <td>http://www.adab.com/modules.php?name=Sh3er&amp;doWhat=shqas&amp;qid=86614&amp;r=&amp;rc=8</td>\n",
       "      <td>فصحى</td>\n",
       "      <td>اه لو اني ابني الشمس بعيني من طين هواء وسراب ماء يذبل في زمني ادواتي حرف كلمات عذراء ذابت خجلا من حزني اه لواني ابني الشمس بحقلي سنبلة اسقيها زيت الروح ومزني المح شمسا تنمو كالزنبق فوق جبيني افرق مجري الوحي بكفي اجمعه يتكون كفي حصني كفي حقلي حقلي وطني</td>\n",
       "      <td>الفلاح</td>\n",
       "      <td>سوريا</td>\n",
       "      <td>755</td>\n",
       "      <td>http://www.adab.com/modules.php?name=Sh3er&amp;doWhat=lsq&amp;shid=755&amp;start=0</td>\n",
       "      <td>عز الدين اليوسف</td>\n",
       "    </tr>\n",
       "    <tr>\n",
       "      <th>58018</th>\n",
       "      <td>86615</td>\n",
       "      <td>http://www.adab.com/modules.php?name=Sh3er&amp;doWhat=shqas&amp;qid=86615&amp;r=&amp;rc=9</td>\n",
       "      <td>فصحى</td>\n",
       "      <td>في عينيك يا امي لماذا الدمع منتظم كعقد الءلء المرمي لا ادري اخاف العمر يخطفني فاكبر دونما فهمي او احنو علي قلبي علي سري واسقي السر من قلبي ومن دمي فسري ان بي خوف بان اسلاك يا امي او اغفوا علي وتر لا يشكو انينا او سري ضيمي سوي لسوابق الغيم قلبك كان زورقتي وكنت الطفل في يمي وصار لزورقي الورقي اشرعة من الاحزان والهم اخاف اذا سردت بها رياح الجرح و اليتم ان تبتل احلامي بحزن الدمع من امي</td>\n",
       "      <td>أمّي</td>\n",
       "      <td>سوريا</td>\n",
       "      <td>755</td>\n",
       "      <td>http://www.adab.com/modules.php?name=Sh3er&amp;doWhat=lsq&amp;shid=755&amp;start=0</td>\n",
       "      <td>عز الدين اليوسف</td>\n",
       "    </tr>\n",
       "    <tr>\n",
       "      <th>58019</th>\n",
       "      <td>86616</td>\n",
       "      <td>http://www.adab.com/modules.php?name=Sh3er&amp;doWhat=shqas&amp;qid=86616&amp;r=&amp;rc=10</td>\n",
       "      <td>فصحى</td>\n",
       "      <td>النوم يوقظ طرفي الظامي علي لحن تموج من بعيد ارمي انتظاري فوق هذا اليل يخرج نايه من نجمة اخري يا ناي غسل بالصباح الانتظار واكتب علي البحر الملوحة والمرار شربت هذا الصبح حتي اسكرت في القفار</td>\n",
       "      <td>عن اللحن</td>\n",
       "      <td>سوريا</td>\n",
       "      <td>755</td>\n",
       "      <td>http://www.adab.com/modules.php?name=Sh3er&amp;doWhat=lsq&amp;shid=755&amp;start=0</td>\n",
       "      <td>عز الدين اليوسف</td>\n",
       "    </tr>\n",
       "    <tr>\n",
       "      <th>58020</th>\n",
       "      <td>86617</td>\n",
       "      <td>http://www.adab.com/modules.php?name=Sh3er&amp;doWhat=shqas&amp;qid=86617&amp;r=&amp;rc=11</td>\n",
       "      <td>فصحى</td>\n",
       "      <td>السلم الذي نزلت فيه لسماء سلم من الجنان جاء اوراقه كتاب رحلة حروفه انامل النساء مكون من عنبر الندي في قمة الثلوج والضياء من قال اني هنا قلت بل هناك في البقاء شرابي السءال والمدي طعامي الهيام والعطاء نزلت في معارج الصدي صعدت غارقا كما اشاء</td>\n",
       "      <td>السلم</td>\n",
       "      <td>سوريا</td>\n",
       "      <td>755</td>\n",
       "      <td>http://www.adab.com/modules.php?name=Sh3er&amp;doWhat=lsq&amp;shid=755&amp;start=0</td>\n",
       "      <td>عز الدين اليوسف</td>\n",
       "    </tr>\n",
       "  </tbody>\n",
       "</table>\n",
       "<p>58021 rows × 9 columns</p>\n",
       "</div>"
      ],
      "text/plain": [
       "       poem_id  \\\n",
       "0      21        \n",
       "1      65546     \n",
       "2      65561     \n",
       "3      65554     \n",
       "4      65550     \n",
       "...      ...     \n",
       "58016  86613     \n",
       "58017  86614     \n",
       "58018  86615     \n",
       "58019  86616     \n",
       "58020  86617     \n",
       "\n",
       "                                                                        poem_link  \\\n",
       "0      http://www.adab.com/modules.php?name=Sh3er&doWhat=shqas&qid=21&r=&rc=0       \n",
       "1      http://www.adab.com/modules.php?name=Sh3er&doWhat=shqas&qid=65546&r=&rc=1    \n",
       "2      http://www.adab.com/modules.php?name=Sh3er&doWhat=shqas&qid=65561&r=&rc=2    \n",
       "3      http://www.adab.com/modules.php?name=Sh3er&doWhat=shqas&qid=65554&r=&rc=3    \n",
       "4      http://www.adab.com/modules.php?name=Sh3er&doWhat=shqas&qid=65550&r=&rc=4    \n",
       "...                                                                          ...    \n",
       "58016  http://www.adab.com/modules.php?name=Sh3er&doWhat=shqas&qid=86613&r=&rc=7    \n",
       "58017  http://www.adab.com/modules.php?name=Sh3er&doWhat=shqas&qid=86614&r=&rc=8    \n",
       "58018  http://www.adab.com/modules.php?name=Sh3er&doWhat=shqas&qid=86615&r=&rc=9    \n",
       "58019  http://www.adab.com/modules.php?name=Sh3er&doWhat=shqas&qid=86616&r=&rc=10   \n",
       "58020  http://www.adab.com/modules.php?name=Sh3er&doWhat=shqas&qid=86617&r=&rc=11   \n",
       "\n",
       "      poem_style  \\\n",
       "0      فصحى        \n",
       "1      فصحى        \n",
       "2      فصحى        \n",
       "3      فصحى        \n",
       "4      فصحى        \n",
       "...     ...        \n",
       "58016  فصحى        \n",
       "58017  فصحى        \n",
       "58018  فصحى        \n",
       "58019  فصحى        \n",
       "58020  فصحى        \n",
       "\n",
       "                                                                                                                                                                                                                                                                                                                                                                                                                                                                                                                                                                                                                                                                                                                                                                                                                                                                                                                                                                                                                                                                                                                                                                                                                                                                                                                                                                                                                                                                                                                                                                                                                                                                                                                                                                                                                                                                                                                                                                                                                                                                                                                                                                                                                                                                                                                                                                                                                                                                                                                                                                                                                                                                                                                                                                                                                                                                                                                                                                                                                                                                                                                                                                                                                                                                                                                                                                                                                                                                             poem_text  \\\n",
       "0      عيناك غابتا نخيل ساعة السحر او شرفتان راح يناي عنهما القمر عيناك حين تبسمان تورق الكروم وترقص الاضواء كالاقمار في نهر يرجه المجذاف وهنا ساعة السحر كانما تنبض في غوريهما النجوم وتغرقان في ضباب من اسي شفيف كالبحر سرح اليدين فوقه المساء دفء الشتاء فيه وارتعاشة الخريف والموت والميلاد والظلام والضياء فتستفيق ملء روحي رعشة البكاء ونشوة وحشية تعانق السماء كنشوة الطفل اذا خاف من القمر كان اقواس السحاب تشرب الغيوم وقطرة فقطرة تذوب في المطر وكركر الاطفال في عراءش الكروم ودغدغت صمت العصافير علي الشجر انشودة المطر مطر مطر مطر تثاءب المساء والغيوم ما تزال تسح ما تسح من دموعها الثقال كان طفلا بات يهذي قبل ان ينام بان امه – التي افاق منذ عام فلم يجدها ثم حين لج في السءال قالوا له \"بعد غد تعود \" لا بد ان تعود وان تهامس الرفاق انها هناك في جانب التل تنام نومة الحود تسف من ترابها وتشرب المطر كان صيادا حزينا يجمع الشباك ويلعن المياه والقدر وينثر الغناء حيث يافل القمر مطر مطر اتعلمين اي حزن يبعث المطر وكيف تنشج المزاريب اذا انهمر وكيف يشعر الوحيد فيه بالضياع بلا انتهاء – كالدم المراق كالجياع كالحب كالاطفال كالموتي – هو المطر ومقلتاك بي تطيفان مع المطر وعبر امواج الخليج تمسح البروق سواحل العراق بالنجوم والمحار كانها تهم بالشروق فيسحب اليل عليها من دم دثار اصيح بالخليج \" يا خليج يا واهب الءلء والمحار والردي \" فيرجع الصدي كانه النشيج \" يا خليج يا واهب المحار والردي \" اكاد اسمع العراق يذخر الرعود ويخزن البروق في السهول والجبال حتي اذا ما فض عنها ختمها الرجال لم ترك الرياح من ثمود في الواد من اثر اكاد اسمع النخيل يشرب المطر واسمع القري تءن والمهاجرين يصارعون بالمجاذيف وبالقلوع عواصف الخليج والرعود منشدين \" مطر مطر مطر وفي العراق جوع وينثر الغلال فيه موسم الحصاد لتشبع الغربان والجراد وتطحن الشوان والحجر رحي تدور في الحقول حولها بشر مطر مطر مطر وكم ذرفنا ليلة الرحيل من دموع ثم اعتلنا – خوف ان نلام – بالمطر مطر مطر ومنذ ان كنا صغارا كانت السماء تغيم في الشتاء ويهطل المطر وكل عام – حين يعشب الثري – نجوع ما مر عام والعراق ليس فيه جوع مطر مطر مطر في كل قطرة من المطر حمراء او صفراء من اجنة الزهر وكل دمعة من الجياع والعراة وكل قطرة تراق من دم العبيد فهي ابتسام في انتظار مبسم جديد او حلمة توردت علي فم الوليد في عالم الغد الفتي واهب الحياة مطر مطر مطر سيعشب العراق بالمطر \" اصيح بالخليج \" يا خليج يا واهب الءلء والمحار والردي \" فيرجع الصدي كانه النشيج \" يا خليج يا واهب المحار والردي \" وينثر الخليج من هباته الكثار علي الرمال رغوه الاجاج والمحار وما تبقي من عظام باءس غريق من المهاجرين ظل يشرب الردي من لجة الخليج والقرار وفي العراق الف افعي تشرب الرحيق من زهرة يربها الفرات بالندي واسمع الصدي يرن في الخليج \" مطر مطر مطر في كل قطرة من المطر حمراء او صفراء من اجنة الزهر وكل دمعة من الجياع والعراة وكل قطرة تراق من دم العبيد فهي ابتسام في انتظار مبسم جديد او حلمة توردت علي فم الوليد في عالم الغد الفتي واهب الحياة \" ويهطل المطر                                                                                                                                                                                                                                                                                                                                                                                                                                                                                                                                                                                                                                                                                                                                             \n",
       "1       انا لا ازال و في يدي قدحي ياليل اين تفرق الشرب ما زلت اشربها و اشربها حتي ترنح افقك الرحب الشرق عفر بالضباب فما يبدو فاين سناك يا غرب ما لنجوم غرقن من سام في ضوءهن و كادت الشهب انا لا ازال و في يدي قدحي ياليل اين تفرق الشرب ****** الحان بالشهوات مصطخب حتي يكاد بهن ينهار و كان مصاحبيه من ضرج كفان مدهما لي العار كفان بل ثغران قد صبغا بدم تدفق منه تيار كاسان ملءهما طلي عصرت من مهجتين رماهما الحب او مخلبان عليهما مزق حمراء تزعم انها قلب ****** الخمر جمعت الدهور , ومافيهن بين جوانب الحان ياويحها اسكرت ام سكرتام نحن في السكرات سيان رمت العوالم والدهور علي ثغري وفوق يدي واجفاني كفي تمد فما تناولني كاسا لعيني خمرها نهب واصافح الدنيا فياعجبا البعد لان واعرض القرب ****** يا ليل اين تطوف بي قدمي في اي منعرج من الظلم تلك السبيل اكاد اعرفها بالامس خاصر طيفها حلمي هي غمد خنجرك الرهيب و قد جردته و مسحت عنه دمي تلك السبيل علي جوانبها تمزق الخطوات او تكبو تثاءب الاجساد جاءعة فيها كما يتثاءب الذءب حسناء يلهب عريها ظماي فاكاد اشرب ذلك العريا و اكاد احطمه فتحطمني عينان جاءعتان كالدنيا غرست يد الحمي علي فمها زهرا طوي شهواتها طيا ان فتحته بحرها شفة سكري يعربد فوقها ندب رقص الهيب علي كماءمه و مشي الطلاء يهزه الوثب عين يرنح هدبها نفسي وفم يقطع همسه الداء ويد علي كتفي مجلجلة رباه ويك اتلك حواء لا كنت ادمها و لا لفحت فردوسي الخمري صحراء صوت النعاس يرن في افقي فتذوب ناعسة به السحب ان الفراش يقيك ياقدمي سوء العثار اذا دجي درب ****** انا حاءر متوجف قلق كالظل بين جوانب البحر المد قربني الي شبحي والان تبعدني يد الجزر وانا الضياء تخيفني دجن واخاف ان ساضيع في الفجر يانوم كل عوالمي حجب ولو التقيتك ذابت الحجب و انثال من سهري علي سهري ينبوعك المتثاءب الرطب اثملت بين جوانحي املا ماكنت اعلم انه امل مثل الفراشة عاد يحبسها دوح بذاءب طله خضل لولا خفوق جناحها غفلت بيض الازاهر عنه والمقل انا من ظلالك بين اودية عذراء كل سهادها عشب هام الضباب علي جوانبها طل الوشاح كنجمة تخبو ****** انا كوكب ظمان ترعشه نطف مءرجة من السحر انا غير جسمي عالمي حلم بكر الظلال ولمحه عمري قلبي تغرب عن احبته وانسل من نغماته وتري فاذا لثمت فغير خادعة بات لكل مخادع تصبو واذا شدوت ارن في افق عبر السماء غناءي العذب ****** هو يافءادي طيفها مسحت عنه التراب انامل الغسق هو غير تلك اما تري القا هو من دماءك انت من حرقي هو غيرها غدرت وبادلني حبي و ضمد بالسنا افقي ومن المهازل ان يري امدا بين الخيانة و الهوي _ هدب اين العوالم كيف غيرها نوم يرف وخاطر صب ****** خفقت ذواءبها علي شفتي و سني فاسكر عطرها نفسي نهر من النفحات ارشفني ريحا تريب مجامر الغلس فكان نايا ضمخته يدا اذار ناغم ليلة العرس فغفا و ما زالت ملاحنه ملء الفضاء يعيدها الحب او ان سوسنة يراقصها رجع الغناء بشعرها تربو ****** ياقبلة اخذت علي عجل افدي بعمري ذلك العجلا الشعر ستر بالظلال فمي فهوي علي الوجنات واشتعلا فعلي جوانبهن منه سنا يدعوه من جهل الهوي خجلا فضح احمرارك ياخدود فما زال يفضحني بما يحبو هو طفلك الاهي ينازعه ابدا الي زهراتك العب ****** يا جسم ذاك الطيف ايا شبحا من ذكرياتي يا هوي خدعا لعناتي الحنقات ما برحت تعتاد خدرك و الظلام معا خفقت باجنحة الغراب علي عينيك تنشر حولك الفزعا الصبح صبحك ضحك شامتة دام و ليلك مضجع ينبو و اذا هلكت غدا فلا تجدي قبرا و مزق صدرك الذءب ****** و البوم يملا عشه نتفا من شعرك المتعفر الضجر و يعود ثغرك لذباب لقي و يداك مثقلتان بالحجر لا تدفعان اذاه عن شفة بالامس اخرس لغوها و تري و ليسق من دمك الخبث غدا دوح تعش فوقه الغرب تاوي الصلال الي جوانبه غرثي و يعوي تحته الكلب ****** ويعود من خشباته نزق جان بمقبض خنجر دام ويعد منه سرير زانية تهوي فتثقله باثام وتظل اعواد المشانق من اعواده كسيت باجسام حتي اذا عصف الذبول به وهوي عليه المعول العضب كان الوقود لقدر ساحرة بين المقابر شانها القشب   \n",
       "2       علي مقلتيك ارتشفت النجوم وعانقت امالي الايبة وسابقت حتي جناح الخيال بروحي الي روحك الواثبة اطلت فكانت سنا ذاءبا بعينيك في بسمة ذاءبة * انت التي ردتها مناي اناشيد تحت ضياء القمر تغني بها في ليالي الربيع فتحلم ازهاره بالمطر ويمضي صداها يهز الضياء ويغفو علي الزورق المنتظر * خذي الكاس بلي صداك العميق بما ارتج في قاعها من شراب خذي الكاس لا جف ذاك الرحيق و الا صدي هامس في القرار الا ليتني ما سقيت التراب * خذي الكاس اني زرعت الكروم علي قبر ذاك الهوي الخاسر فاعراقها تستعيد الشراب وتشتفه من يد العاصر خذي الكاس اني نسيت الزمان فما في حياتي سوي حاضر * وكان انتظار لهذا الهوي جلوسي علي الشاطيء المقفر وارسال طرفي يجوب العباب ويرتد عن افقه الاسمر الي ان اهل الشراع الضحوك وقالت لك الامنيات انظري * انكرت حتي هواك الجوج وقلبي واشواقك العارمة وضلت في وهدة الكبرياء صداها فيا لك من ظالمة تجنيت حتي حسبت النعاس ذبولا علي الزهرة الناءمة * اتنسين تحت التماع النجوم خطانا وانفاسنا الواجفة وكيف احتضنا صدي في القلوب تغني به القبلة الراجفة صدي لج احتراق الشفاة وما زال في غيهب العاطفة * ورانت علي الاعين الوامقات ظلال من القبلة الناءية تنادي بها رغبة في الشفاة ويمنعها الشك والواشية فترتج عن ضغطة في اليدين جكعنا بها الدهر في ثانية * شقيقة روحي الا تذكرين نداء سيبقي يجوب السنين وهمس من الانجم الحالمات يهز التماعاتها بالرنين تسل من فجوة في الستار اليك وقال الا تذكرين * تعالي فما زال في مقلتي سنا ماج فيه اتقاد الفءاد كما لاح في الجدول المطمءن خيال الظي والنجوم البعاد فلا تزعمي ان هذا جليد ولا تزعمي ان هذا رماد                                                                                                                                                                                                                                                                                                                                                                                                                                                                                                                                                                                                                                                                                                                                                                                                                                                                                                                                                                                                                                                                                                                                                                                                                                                                                                                                                                                                                                                                                                                                                                                                                                                                                                                                                                                                                                                                                                                                                                                                                            \n",
       "3      اساطير من حشرجات الزمان نسيج اليد البالية رواها ظلام من الهاوية وغني بها ميتان اساطير كالبيد ماج سراب عليها وشقت بقايا شهاب وابصرت فيها بريق النضار يلاقي سدي من ظلال الرغيف وابصرتني والستار الكثيف يواريك عني فضاع انتظار وخابت مني وانتهي عاشقان ** اساطير مثل المدي القاسيات تلاوينها من دم الباءسين فكم اومضت في عيون الطغاة بما حملت من غبار السنين يقولون وحي السماء فلو يسمع الانبياء لما قهقهت ظلمة الهاوية باسطورة بالية تجر القرون بمركبة من لظي في جنون لظي كالجنون ** وهذا الغرام الجوج ايريد من لمسة باردة علي اصبع من خيال الثلوج واسطورة باءدة وعرافة اطلقت في الرمال بقايا سءال وعينين تستطلعان الغيوب وتستشرقان الدروب فكان ابتهال وكانت صلاة تغفر وجه الالة وتحنو عليه انطباق الشفاة ** تعالي فما زال نجم المساء يذيب السنا في النهار الغريق ويغشي سكون الطريق بلونين من ومضة واطفاء وهمس الهول الثقيل بدفء الشذي واكتءاب الغروب يذكرني بالرحيل شراع خلال التحايا يذوب وكف تلوح يا لعذاب ** تعالي فما زال لون السحاب حزينا يذكرني بالرحيل رحيل تعالي تعالي نذيب الزمان وساعة في عناق طويل ونصبح بالارجوان شراعا وراء المدي ونسي الغدا علي صدرك الدافء العاطر كتهويمة الشاعر تعالي فملء الفضاء صدي هامس بالقاء يوسوس دون انتهاء ** علي مقلتيك انتظار بعيد وشيء يءيد ظلال يغمغم في جانبيها سءال وشوق حزين يريد اعتصار السراب وتمزيق اسطورة الاولين فيا لعذاب جناحان خلف الحجاب شراع وغمغمة بالوداع                                                                                                                                                                                                                                                                                                                                                                                                                                                                                                                                                                                                                                                                                                                                                                                                                                                                                                                                                                                                                                                                                                                                                                                                                                                                                                                                                                                                                                                                                                                                                                                                                                                                                                                                                                                                                                                                                                                                                                                                                                                                                                                                                               \n",
       "4      والتف حولك ساعداي ومال جيدك في اشتهاء كالزهرة الوسني فما احست الا والشفاة فوق الشفاة ولمساء عطر يضوع فتسكرين به واسكر من شذاه في الجيد والفم والذراع فاغيب في افق بعيد مثلما ذاب الشراع في ارجوان الشاطء الناءي واوغل في مداه شفتاك في شفتي عالقتان والنجم الضءيل يلقي سناه علي بقايا راعشات من عناق ثم ارتخت عني يداك واطبق الصمت الثقيل يا نشوة عبري واعفاء علي ظل الفراق حلوا كاغماء الفراشة من ذهول وانتشاء دوما الي غير انتهاء يا همسة فوق الشفاة ذابت فكانت شبه اه يا سكرة مثل ارتجافات الغروب الهاءمات رانت كما سكن الجناح وقد تناءي في الفضاء غرقي الي غير انتهاء مثل النجوم الافلات لا لن تراني لن اعود هيهات لكن الوعود تبقي تلح فخف انت وسوف اتي في الخيال يوما اذا ما جءت انت وربما سال الضياء فوق الوجوه الضاحكات وقد نسيت وما يزال بين الاراءك موضع خال يحدق في غباء هذا الفراغ اما تحس به يحدق في وجوم هذا الفراغ انا الفراغ فخف انت لكي يدوم هذا هواليوم الاخير واحسرتاه اتصدقين الن تخف الي لقاء هذا هو اليوم الاخير فليته دون انتهاء ليت الكواكب لا تسير والساعة العجلي تنام علي الزمان فلا تفيق خلفتني وحدي اسير الي السراب بلا رفيق يا لعذاب اما بوسعك ان تقولي يعجزون عنا فماذا يصنعون لو اني حان القاء فاقتادني نجم المساء في غمرة لا استفيق الا وانت خصري تحت اضواء الطريق ليل ونافذة تضاء تقول انك تسهرين اني احسك تهمسين في ذلك الصمت الميت الن تخف الي لقاء ليل ونافذة تضاء تغشي رءاي وانت فيها ثم ينحل الشعاع في ظلمة اليل العميق ويلوح ظلك من بعيد وهو يومء بالوداع واظل وحدي في الطريق                                                                                                                                                                                                                                                                                                                                                                                                                                                                                                                                                                                                                                                                                                                                                                                                                                                                                                                                                                                                                                                                                                                                                                                                                                                                                                                                                                                                                                                                                                                                                                                                                                                                                                                                                                                                                                                                                                                                                                                                                                                               \n",
       "...                                                                                                                                                                                                                                                                                                                                                                                                                                                                                                                                                                                                                                                                                                                                                                                                                                                                                                                                                                                                                                                                                                                                                                                                                                                                                                                                                                                                                    ...                                                                                                                                                                                                                                                                                                                                                                                                                                                                                                                                                                                                                                                                                                                                                                                                                                                                                                                                                                                                                                                                                                                                                                                                                                                                                                                                                                                                                                                                                                                                                                                                                                                                                                                                                                                                                                                                                                                                                                                                                                                               \n",
       "58016  لروح صهيل لا تحويه الاوقات ذنبك انك تمتد علي اكتاف الموج وتقفوك الشرفات خبءت الصمت علي شفتيك سماوات وعروس النيل اقفلت الاقداح علي رشفتك الاولي فتراءي من بين التهميش زفير تعبده المراة لونك يتواتره الطيف كما تواتر في النفي الذات حزم الوقت تزمل في نشوي الصلوات خبء لرحلة جسدا تكون في سهو القبلات اسرف في اليل رحيقا يمتزج بحلم النجمات لبس الءلء لمعانا سرق العمق من الظلمات حمل حقيقته نهرا يسقيه النور من السبحات كخشوع سنابلها يهمي يحمي الرمل من الزلات ادرك رتبته صمتا فالصمت سجود الكلمات                                                                                                                                                                                                                                                                                                                                                                                                                                                                                                                                                                                                                                                                                                                                                                                                                                                                                                                                                                                                                                                                                                                                                                                                                                                                                                                                                                                                                                                                                                                                                                                                                                                                                                                                                                                                                                                                                                                                                                                                                                                                                                                                                                                                                                                                                                                                                                                                                                                                                                                                                                                                                                                                                                                                                                                                                                                                                                                                                                               \n",
       "58017  اه لو اني ابني الشمس بعيني من طين هواء وسراب ماء يذبل في زمني ادواتي حرف كلمات عذراء ذابت خجلا من حزني اه لواني ابني الشمس بحقلي سنبلة اسقيها زيت الروح ومزني المح شمسا تنمو كالزنبق فوق جبيني افرق مجري الوحي بكفي اجمعه يتكون كفي حصني كفي حقلي حقلي وطني                                                                                                                                                                                                                                                                                                                                                                                                                                                                                                                                                                                                                                                                                                                                                                                                                                                                                                                                                                                                                                                                                                                                                                                                                                                                                                                                                                                                                                                                                                                                                                                                                                                                                                                                                                                                                                                                                                                                                                                                                                                                                                                                                                                                                                                                                                                                                                                                                                                                                                                                                                                                                                                                                                                                                                                                                                                                                                                                                                                                                                                                                                                                                                                                                       \n",
       "58018  في عينيك يا امي لماذا الدمع منتظم كعقد الءلء المرمي لا ادري اخاف العمر يخطفني فاكبر دونما فهمي او احنو علي قلبي علي سري واسقي السر من قلبي ومن دمي فسري ان بي خوف بان اسلاك يا امي او اغفوا علي وتر لا يشكو انينا او سري ضيمي سوي لسوابق الغيم قلبك كان زورقتي وكنت الطفل في يمي وصار لزورقي الورقي اشرعة من الاحزان والهم اخاف اذا سردت بها رياح الجرح و اليتم ان تبتل احلامي بحزن الدمع من امي                                                                                                                                                                                                                                                                                                                                                                                                                                                                                                                                                                                                                                                                                                                                                                                                                                                                                                                                                                                                                                                                                                                                                                                                                                                                                                                                                                                                                                                                                                                                                                                                                                                                                                                                                                                                                                                                                                                                                                                                                                                                                                                                                                                                                                                                                                                                                                                                                                                                                                                                                                                                                                                                                                                                                                                                                                                                                                                                                                                                                                                                                  \n",
       "58019  النوم يوقظ طرفي الظامي علي لحن تموج من بعيد ارمي انتظاري فوق هذا اليل يخرج نايه من نجمة اخري يا ناي غسل بالصباح الانتظار واكتب علي البحر الملوحة والمرار شربت هذا الصبح حتي اسكرت في القفار                                                                                                                                                                                                                                                                                                                                                                                                                                                                                                                                                                                                                                                                                                                                                                                                                                                                                                                                                                                                                                                                                                                                                                                                                                                                                                                                                                                                                                                                                                                                                                                                                                                                                                                                                                                                                                                                                                                                                                                                                                                                                                                                                                                                                                                                                                                                                                                                                                                                                                                                                                                                                                                                                                                                                                                                                                                                                                                                                                                                                                                                                                                                                                                                                                                                                       \n",
       "58020  السلم الذي نزلت فيه لسماء سلم من الجنان جاء اوراقه كتاب رحلة حروفه انامل النساء مكون من عنبر الندي في قمة الثلوج والضياء من قال اني هنا قلت بل هناك في البقاء شرابي السءال والمدي طعامي الهيام والعطاء نزلت في معارج الصدي صعدت غارقا كما اشاء                                                                                                                                                                                                                                                                                                                                                                                                                                                                                                                                                                                                                                                                                                                                                                                                                                                                                                                                                                                                                                                                                                                                                                                                                                                                                                                                                                                                                                                                                                                                                                                                                                                                                                                                                                                                                                                                                                                                                                                                                                                                                                                                                                                                                                                                                                                                                                                                                                                                                                                                                                                                                                                                                                                                                                                                                                                                                                                                                                                                                                                                                                                                                                                                                                    \n",
       "\n",
       "           poem_title poet_cat  poet_id  \\\n",
       "0      أنشودة المطر    العراق   2         \n",
       "1      أقداح و أحلام   العراق   2         \n",
       "2      هوى واحد !      العراق   2         \n",
       "3      أساطير          العراق   2         \n",
       "4      اللقاء الأخير   العراق   2         \n",
       "...               ...     ...  ..         \n",
       "58016  الوقت           سوريا    755       \n",
       "58017  الفلاح          سوريا    755       \n",
       "58018  أمّي            سوريا    755       \n",
       "58019  عن اللحن        سوريا    755       \n",
       "58020  السلم           سوريا    755       \n",
       "\n",
       "                                                                    poet_link  \\\n",
       "0      http://www.adab.com/modules.php?name=Sh3er&doWhat=lsq&shid=2&start=0     \n",
       "1      http://www.adab.com/modules.php?name=Sh3er&doWhat=lsq&shid=2&start=0     \n",
       "2      http://www.adab.com/modules.php?name=Sh3er&doWhat=lsq&shid=2&start=0     \n",
       "3      http://www.adab.com/modules.php?name=Sh3er&doWhat=lsq&shid=2&start=0     \n",
       "4      http://www.adab.com/modules.php?name=Sh3er&doWhat=lsq&shid=2&start=0     \n",
       "...                                                                     ...     \n",
       "58016  http://www.adab.com/modules.php?name=Sh3er&doWhat=lsq&shid=755&start=0   \n",
       "58017  http://www.adab.com/modules.php?name=Sh3er&doWhat=lsq&shid=755&start=0   \n",
       "58018  http://www.adab.com/modules.php?name=Sh3er&doWhat=lsq&shid=755&start=0   \n",
       "58019  http://www.adab.com/modules.php?name=Sh3er&doWhat=lsq&shid=755&start=0   \n",
       "58020  http://www.adab.com/modules.php?name=Sh3er&doWhat=lsq&shid=755&start=0   \n",
       "\n",
       "             poet_name  \n",
       "0      بدر شاكر السياب  \n",
       "1      بدر شاكر السياب  \n",
       "2      بدر شاكر السياب  \n",
       "3      بدر شاكر السياب  \n",
       "4      بدر شاكر السياب  \n",
       "...                ...  \n",
       "58016  عز الدين اليوسف  \n",
       "58017  عز الدين اليوسف  \n",
       "58018  عز الدين اليوسف  \n",
       "58019  عز الدين اليوسف  \n",
       "58020  عز الدين اليوسف  \n",
       "\n",
       "[58021 rows x 9 columns]"
      ]
     },
     "execution_count": 14,
     "metadata": {},
     "output_type": "execute_result"
    }
   ],
   "source": [
    "# To display full text\n",
    "pd.set_option('display.max_colwidth',-1)#can see the whole data on one single row\n",
    "# complaints_df\n",
    "df"
   ]
  },
  {
   "cell_type": "markdown",
   "metadata": {
    "id": "0misMnEpZ3bR"
   },
   "source": [
    "## NLP Preprocessing"
   ]
  },
  {
   "cell_type": "code",
   "execution_count": 15,
   "metadata": {
    "colab": {
     "base_uri": "https://localhost:8080/"
    },
    "id": "ggXwrRCZZxWe",
    "outputId": "83b1ed32-408b-4009-9698-281d7ff2e060"
   },
   "outputs": [
    {
     "data": {
      "text/plain": [
       "66350.0"
      ]
     },
     "execution_count": 15,
     "metadata": {},
     "output_type": "execute_result"
    }
   ],
   "source": [
    "max(df.poem_text.str.len())"
   ]
  },
  {
   "cell_type": "code",
   "execution_count": 16,
   "metadata": {
    "colab": {
     "base_uri": "https://localhost:8080/"
    },
    "id": "9quxFKmRZ_WD",
    "outputId": "9ed11081-e015-4d76-c2d1-af18c7c8038b"
   },
   "outputs": [
    {
     "data": {
      "text/plain": [
       "1.0"
      ]
     },
     "execution_count": 16,
     "metadata": {},
     "output_type": "execute_result"
    }
   ],
   "source": [
    "min(df.poem_text.str.len())"
   ]
  },
  {
   "cell_type": "markdown",
   "metadata": {
    "id": "wC-kgrgjaKe3"
   },
   "source": [
    "**removing observtions less than 120**"
   ]
  },
  {
   "cell_type": "code",
   "execution_count": 17,
   "metadata": {
    "id": "5CHU8IzTaByU"
   },
   "outputs": [],
   "source": [
    "df = df[df.poem_text.str.len() > 120]"
   ]
  },
  {
   "cell_type": "code",
   "execution_count": 18,
   "metadata": {
    "colab": {
     "base_uri": "https://localhost:8080/"
    },
    "id": "n68v7Ss6aVKt",
    "outputId": "85721e71-d81f-414c-b7f2-4e50d00ee20d"
   },
   "outputs": [
    {
     "data": {
      "text/plain": [
       "(47110, 9)"
      ]
     },
     "execution_count": 18,
     "metadata": {},
     "output_type": "execute_result"
    }
   ],
   "source": [
    "df.shape"
   ]
  },
  {
   "cell_type": "code",
   "execution_count": 19,
   "metadata": {
    "colab": {
     "base_uri": "https://localhost:8080/"
    },
    "id": "cuFDWteGaYsd",
    "outputId": "bb1129de-9547-4886-b8fd-21fc3ef1aef0"
   },
   "outputs": [
    {
     "data": {
      "text/plain": [
       "0"
      ]
     },
     "execution_count": 19,
     "metadata": {},
     "output_type": "execute_result"
    }
   ],
   "source": [
    "df.poem_text.isna().sum()"
   ]
  },
  {
   "cell_type": "markdown",
   "metadata": {
    "id": "TpBcM85saiSQ"
   },
   "source": [
    "### **Removing Non-arabic letters, numbers, amiss typo and special characters**\n"
   ]
  },
  {
   "cell_type": "code",
   "execution_count": 20,
   "metadata": {
    "id": "5bMCDmXAadcW"
   },
   "outputs": [],
   "source": [
    "# function to clean and normalize text \n",
    "def clean_text(text):\n",
    "    search = [\"أ\",\"إ\",\"آ\",\"ة\",\"_\",\"-\",\"/\",\".\",\"،\",\" و \",\" يا \",'\"',\"ـ\",\"'\",\"ى\",\"\\\\\",'\\n', '\\t','&quot;','?','؟','!']\n",
    "    replace = [\"ا\",\"ا\",\"ا\",\"ه\",\" \",\" \",\"\",\"\",\"\",\" و\",\" يا\",\"\",\"\",\"\",\"ي\",\"\",' ', ' ',' ',' ? ',' ؟ ',' ! ']  \n",
    "    p_tashkeel = re.compile(r'[\\u0617-\\u061A\\u064B-\\u0652]')\n",
    "    text = re.sub(p_tashkeel,\"\", text)\n",
    "    p_longation = re.compile(r'(.)\\1+')\n",
    "    subst = r\"\\1\\1\"\n",
    "    text = re.sub(p_longation, subst, text)\n",
    "    text = text.replace('وو', 'و')\n",
    "    text = text.replace('يي', 'ي')\n",
    "    text = text.replace('اا', 'ا')\n",
    "    \n",
    "    for i in range(0, len(search)):\n",
    "        text = text.replace(search[i], replace[i])\n",
    "        \n",
    "    text = text.strip()\n",
    "    \n",
    "    return text"
   ]
  },
  {
   "cell_type": "code",
   "execution_count": 21,
   "metadata": {
    "id": "9wbMsONqal9r"
   },
   "outputs": [],
   "source": [
    "arabic_punctuations = '''«»`÷×؛<>_()*&^%][ـ،/:\"؟.,'{}~¦+|!”…“–ـ'''\n",
    "english_punctuations = string.punctuation\n",
    "punctuations_list = arabic_punctuations + english_punctuations\n",
    "\n",
    "arabic_diacritics = re.compile(\"\"\"\n",
    "                             ّ    | # Tashdid\n",
    "                             َ    | # Fatha\n",
    "                             ً    | # Tanwin Fath\n",
    "                             ُ    | # Damma\n",
    "                             ٌ    | # Tanwin Damm\n",
    "                             ِ    | # Kasra\n",
    "                             ٍ    | # Tanwin Kasr\n",
    "                             ْ    | # Sukun\n",
    "                             ـ     # Tatwil/Kashida\n",
    "                         \"\"\", re.VERBOSE)\n",
    "\n",
    "\n",
    "def normalize_arabic(text):\n",
    "    text = re.sub(\"[إأآا]\", \"ا\", text)\n",
    "    text = re.sub(\"ى\", \"ي\", text)\n",
    "    text = re.sub(\"ؤ\", \"ء\", text)\n",
    "    text = re.sub(\"ئ\", \"ء\", text)\n",
    "    text = re.sub(\"ة\", \"ه\", text)\n",
    "    text = re.sub(\"گ\", \"ك\", text)\n",
    "    \n",
    "    return text\n",
    "\n",
    "\n",
    "def remove_diacritics(text):\n",
    "    text = re.sub(arabic_diacritics, '', text)\n",
    "    return text\n",
    "\n",
    "\n",
    "def remove_punctuations(text):\n",
    "    translator = str.maketrans('', '', punctuations_list)\n",
    "    return text.translate(translator)\n",
    "\n",
    "\n",
    "def remove_repeating_char(text):\n",
    "    return re.sub(r'(.)\\1+', r'\\1', text)"
   ]
  },
  {
   "cell_type": "code",
   "execution_count": 22,
   "metadata": {
    "id": "SlK4sRlbaslo"
   },
   "outputs": [],
   "source": [
    "# clean and normalize text\n",
    "df.poem_text  = df.poem_text.apply(lambda x: clean_text(x))\n",
    "\n",
    "# remove punctuation\n",
    "df.poem_text  = df.poem_text.apply(lambda x: remove_punctuations(x))\n",
    "\n",
    "# remove diacritics\n",
    "df.poem_text  = df.poem_text.apply(lambda x: remove_diacritics(x))\n",
    "\n",
    "# remove repeating char\n",
    "df.poem_text  = df.poem_text.apply(lambda x: remove_repeating_char(x))\n",
    "\n",
    "# remove english letters\n",
    "df.poem_text = df.poem_text.apply(lambda x: re.sub(r'[a-zA-Z]', '', x))\n",
    "\n",
    "# remove a special character \n",
    "df.poem_text = df.poem_text.apply(lambda x: re.sub(r'[_]+', '', x))\n",
    "\n",
    "# remove english numbers\n",
    "df.poem_text = df.poem_text.apply(lambda x: re.sub(r'/[0-9\\u0621-\\u064A]+/u', '', x))\n",
    "\n",
    "# remove space\n",
    "df.poem_text  = df.poem_text.str.replace('\\d+', '')"
   ]
  },
  {
   "cell_type": "code",
   "execution_count": 23,
   "metadata": {
    "id": "cF3p_Ei0a4Vd"
   },
   "outputs": [],
   "source": [
    "# Convert to list\n",
    "data = df[df.columns[3]].values.tolist()"
   ]
  },
  {
   "cell_type": "markdown",
   "metadata": {
    "id": "kksvL9x2bEAE"
   },
   "source": [
    "### **Stemming**"
   ]
  },
  {
   "cell_type": "code",
   "execution_count": 24,
   "metadata": {
    "id": "RBEV9TKilsUa"
   },
   "outputs": [],
   "source": [
    "stopـwords =nltk.corpus.stopwords.words(\"arabic\")\n",
    "stopـwords.extend(['هـ', 'د', 'م', 'الى', 'ان', 'اذ', 'لهذه',\n",
    "                   'قال', 'وقال', 'اكد', 'عدد', 'بعدد', 'وعدد'\n",
    "                   , 'والتي', 'بن', 'بنت', 'وقد', 'ا', 'عبر',\n",
    "                   'خلال', 'او', 'الا', 'وان', 'اي', 'بان', 'كان'\n",
    "                   , 'كانت' ,'تم','الف','مليون', 'وفي', 'وقد','اكثر','اقل'\n",
    "                   , 'انه','وانه', 'قالت', 'وقالت', 'وتم','اذا', 'وسوف', 'ه', 'م', 'كثير',\n",
    "                   'ودليل', 'معهم','مصدر'\n",
    "                   ,'مر','على','تنتهي','كبيرة','تستمر','الفرج','وواضح','وصاحب',\n",
    "                   'يتم','،وذلك','تكون','عليها'\n",
    "                   ,'انها','امس','العامه','الثاني','لاداره','اكبر','الف','اليوم'\n",
    "                   ,'خلال','الاسبوع','اباغسطس','اباطيلهم','ابارك','ابارا','ابار','اباده','اباحيا','اباتشي',\n",
    "                   'ابابا','ابائهم','ابائه','اباؤهم','اباؤنا','اباؤكن','اباءهم','اباءنا','اباء','ابا'\n",
    "                   ,'اب','ائمه','ائذن','ائتماني','ائتلافيه','ائتلافا','ئايه','اباحه','ابالخيل'\n",
    "                   ,'ابالغ','ابان','ابانات','ابانها','اباه','اباوت',\n",
    "                   'ابت','ابتد','ابتدا','ابتداء','ابتدائي',\n",
    "                   'ابتدائيا','ابتدائيه','ابتدات','ابتدعها','ابتدعوا','ابتسام','ابتسامات','ابتسامتكم',\n",
    "                   'ابتسامتها','ابتسامتهم','ابتسامه'\n",
    "                   ,'ابتسم','ابتسمت'\n",
    "                   ,'ابتعاثاهل','ابتعاثهم'\n",
    "                   ,'ﺍﻟﻔﻴﻮﺵ','ﺍﻟﻤﺨﺘﻠﻔﺔ','ﺍﻟﻤﻨﺎﻃﻖ','ﺍﻟﻤﻄﺎﺭ','ﺍﻟﻤﻌﻨﻴﺔ','ﺑﺎﺏ','ﺑﻤﺮﻳﺲ',\n",
    "                   'ﺣﺎﻟﻴﺎ','ﺣﺘﻰ','ﺩﺍﺭ','ﺳﺘﻮﺍﺻﻞ','ﻋﻤﻠﻴﺎﺗﻬﺎ'\n",
    "                   ,'ﻓﻲ','ﻛﻞ','ﻟﻌﻮﺩﺓ','ﻣنطقه','ﻣﺠﺎﻝ','ﻣﻊ','ﻣﻦ','ﻭان','ﻭﺍﺳﺘﻘﺒﺎﻝ'\n",
    "                   ,'ﻭﺍﻟﻜﺜﻴﺮ','ﻷي','ﻹكمال','ﻹنشائه','ﻭﻣﻌﺎﺭﻙ','ﻭﻣﺴﺘﻘﺮﺓ','ﻭﺍﻟﻤﻮﺍﻧﺊ','ﺇﻟﻰ','ائتمانيه'\n",
    "                   ,'اؤمن','اؤدي','اؤكد','ابتعاده',\n",
    "                   'ابتعادهم','ابتعث','ابتعثت','ابتعدت','ابتعدوا','ابتغي','ابتكارا',\n",
    "                   'ابتكارات','ابتكاره','ابتكر','ابتكرها'\n",
    "                   ,'ابتكروا','ابتلعت','ابتليت','ابجديتي'\n",
    "                   ,'يونيوحزيران','يونيور','يونيون','يونيكريدت','يونيه','یعني','يويو','',\n",
    "                   '','','','','','','','','','','','','','','','',\n",
    "                   '','','','','','','','','','','','','','','','',\n",
    "                   '','','','','','','','','','','','','','','','',\n",
    "                   '','','','','','','','','','','','','','','','',\n",
    "                   '','','','','','','','','','','','','','','','',\n",
    "                   '','','','','','','','','','','','','','','','',\n",
    "                   '','','','','','','','','','','','','','','','',\n",
    "                   '','','','','','','','','','','','','','','','',\n",
    "                   '','','','','','','','','','','','','','','','',])"
   ]
  },
  {
   "cell_type": "code",
   "execution_count": 25,
   "metadata": {
    "id": "UrysQYoZjeWe"
   },
   "outputs": [],
   "source": [
    "#stemming as experiment\n",
    "def apply_stemming_and_Stopwords(texts):\n",
    "    st = ISRIStemmer()\n",
    "    return [[st.stem(word) for word in gensim.utils.simple_preprocess(str(doc)) if word not in stopـwords] for doc in texts]"
   ]
  },
  {
   "cell_type": "code",
   "execution_count": 26,
   "metadata": {
    "id": "z9FC4Pjqkz5l"
   },
   "outputs": [],
   "source": [
    "stemmstop_word=apply_stemming_and_Stopwords(df.poem_text)"
   ]
  },
  {
   "cell_type": "markdown",
   "metadata": {
    "id": "VHCDqPW_xTAT"
   },
   "source": [
    "### **TF-IDF Vectorizer**"
   ]
  },
  {
   "cell_type": "code",
   "execution_count": null,
   "metadata": {
    "colab": {
     "base_uri": "https://localhost:8080/",
     "height": 483
    },
    "id": "5E1TEkVJipM-",
    "outputId": "3b162ffc-dc16-4317-cd29-15d69a1af41c"
   },
   "outputs": [],
   "source": [
    "# the document-term matrix \n",
    "tfidf = TfidfVectorizer(stop_words=stopـwords)\n",
    "doc_words = tfidf.fit_transform(df.poem_text)\n",
    "pd.DataFrame(doc_words.toarray(),columns=tfidf.get_feature_names())"
   ]
  },
  {
   "cell_type": "markdown",
   "metadata": {
    "id": "VGFu_WMoj9J0"
   },
   "source": [
    "## EDA"
   ]
  },
  {
   "cell_type": "code",
   "execution_count": 87,
   "metadata": {},
   "outputs": [
    {
     "data": {
      "text/plain": [
       "ابن الرومي            1549\n",
       "أبوالعلاء المعري      1363\n",
       "جبران خليل جبران      977 \n",
       "عبد الغني النابلسي    875 \n",
       "البحتري               855 \n",
       "Name: poet_name, dtype: int64"
      ]
     },
     "execution_count": 87,
     "metadata": {},
     "output_type": "execute_result"
    }
   ],
   "source": [
    "Poet= df['poet_name'].value_counts()[0:5]\n",
    "Poet"
   ]
  },
  {
   "cell_type": "code",
   "execution_count": 66,
   "metadata": {},
   "outputs": [
    {
     "data": {
      "image/png": "[encoded data removed]",
      "text/plain": [
       "<Figure size 1080x648 with 1 Axes>"
      ]
     },
     "metadata": {
      "needs_background": "light"
     },
     "output_type": "display_data"
    }
   ],
   "source": [
    "\n",
    "Poet.plot(kind='bar', title= 'Most poems' , figsize=(15,9));\n"
   ]
  },
  {
   "cell_type": "markdown",
   "metadata": {
    "id": "dWA_1ytWZ8Ab"
   },
   "source": [
    "source Distribution"
   ]
  },
  {
   "cell_type": "code",
   "execution_count": 95,
   "metadata": {
    "colab": {
     "base_uri": "https://localhost:8080/",
     "height": 809
    },
    "id": "83Mq8nj-Z5R8",
    "outputId": "d11d2a5e-cab5-415f-c0f2-0db229912ab9"
   },
   "outputs": [
    {
     "data": {
      "image/png": "[encoded data removed]",
      "text/plain": [
       "<Figure size 2160x2160 with 1 Axes>"
      ]
     },
     "metadata": {},
     "output_type": "display_data"
    }
   ],
   "source": [
    "targetCounts = df['poet_name'].value_counts()[:5]\n",
    "targetLabels  = df['poet_name'].unique()[:5]\n",
    "# Make square figures and axes\n",
    "plt.figure(1, figsize=(30,30))\n",
    "the_grid = GridSpec(2, 2)\n",
    "\n",
    "#Blues_r #PuBuGn #Sequential\n",
    "cmap = plt.get_cmap('GnBu_r')\n",
    "colors = [cmap(i) for i in np.linspace(0, 1, 3)]\n",
    "plt.subplot(the_grid[0, 1], aspect=1, \n",
    "            title= 'POET NAME DISTRIBUTION')\n",
    "\n",
    "source_pie = plt.pie(targetCounts, autopct='%1.1f%%', shadow=True, colors=colors)"
   ]
  },
  {
   "cell_type": "markdown",
   "metadata": {
    "id": "0PMf8Z_xaLfD"
   },
   "source": [
    "## **Topic Modeling**\n",
    "\n",
    "\n",
    "1. NMF"
   ]
  },
  {
   "cell_type": "code",
   "execution_count": 98,
   "metadata": {
    "id": "ZPyfBqbJaEDx"
   },
   "outputs": [],
   "source": [
    "# function to display topics with words\n",
    "from sklearn.decomposition import NMF, LatentDirichletAllocation\n",
    "\n",
    "def display_topics(model, feature_names, no_top_words, topic_names=None):\n",
    "    for ix, topic in enumerate(model.components_):\n",
    "        if not topic_names or not topic_names[ix]:\n",
    "            print(\"\\nTopic \", ix)\n",
    "#         else:\n",
    "#             print(\"\\nTopic: '\",topic_names[ix],\"'\")\n",
    "        print(\", \".join([feature_names[i]\n",
    "                        for i in topic.argsort()[:-no_top_words - 1:-1]]))\n",
    "    \n",
    "\n",
    "def display_top(model, feature_names, no_top_words, topic_names=None):\n",
    "    \n",
    "    my_dict = {'topic_0':'','topic_1':'','topic_2':'','topic_3':'','topic_4':''}\n",
    "    ctr = 0\n",
    "    for ix, topic in enumerate(model.components_):\n",
    "                #if not topic_names or not topic_names[ix]:\n",
    "#             print(\"\\nTopic \", ix)\n",
    "        txt = \",\".join([feature_names[i] for i in topic.argsort()[:-no_top_words - 1:-1]])\n",
    "        my_dict['topic_'+str(ctr)] = txt\n",
    "        ctr+=1\n",
    "#         print('words are::: ',txt)\n",
    "    return my_dict"
   ]
  },
  {
   "cell_type": "code",
   "execution_count": 100,
   "metadata": {
    "colab": {
     "base_uri": "https://localhost:8080/"
    },
    "id": "hTV6bLoRaf75",
    "outputId": "d8d118e4-06b3-4802-a98d-c4dde3b6d58c"
   },
   "outputs": [
    {
     "name": "stdout",
     "output_type": "stream",
     "text": [
      "\n",
      "Topic  0\n",
      "علي, اله, الي, فما, ولم, الدهر, حتي, الناس, يوم, فان, ال, لقد, وكم, عنه, الزمان, المجد, فلم, منك, فقد, خير, ابن, الدنيا, بني, تري, ام, منهم, اليه, الوري, وهي, وليس, اهل, واذا, يكن, الملك, الحق, فتي, مصر, العلي, اما, كنت, فيا, ملك, الدين, اني, وهل, القوم, وكان, قوم, راي, ابي\n",
      "\n",
      "Topic  1\n",
      "علي, الي, اليل, الارض, الان, البحر, بلا, الريح, الموت, حتي, الماء, الشمس, اخر, الروح, وانا, الحياه, اين, السماء, الطريق, ايها, الوقت, وجه, الصمت, الفجر, المساء, الحلم, الصباح, العمر, الحزن, القلب, باب, الشعر, امراه, لماذا, دمي, شيء, النار, ليل, صوت, النهر, سوي, المطر, النهار, يدي, المدينه, القصيده, الظلام, اه, مره, ماء\n",
      "\n",
      "Topic  2\n",
      "انا, انت, اني, كنت, الحب, قلبي, الهوي, قلت, مني, فيك, القلب, وانت, وانا, عني, منك, احبك, ام, اليك, شيء, نفسي, روحي, يوما, عندي, عيني, فءادي, ادري, عنك, اري, واذا, حتي, اين, عينيك, حبي, عمري, حب, الحياه, ايها, حبك, هواك, العشق, فانا, العمر, فاني, فاذا, الغرام, وحدي, واني, حياتي, الوجود, شءت\n",
      "------------------------------------------\n",
      "\n",
      "Topic  0\n",
      "علي, الي, فما, ولم, حتي, الدهر, يوم, فان, الزمان, الناس, وكم, لقد, فلم, ال, منك, فقد, المجد, ام, ابن, بني, تري, عنه, وهي, كنت, الهوي, اما, منهم, وليس, فتي, اليه, اني, واذا, الدنيا, وهل, فيا, مني, اري, الايام, الملك, العلي, وكان, الصبا, خير, اليك, الوري, يكن, الندي, يوما, ابي, ملك\n",
      "\n",
      "Topic  1\n",
      "علي, الي, اليل, الان, الارض, البحر, بلا, الريح, الموت, الماء, وانا, الشمس, حتي, اخر, الروح, اين, الحياه, ايها, السماء, الطريق, الوقت, الصمت, المساء, وجه, العمر, الفجر, الحلم, الحزن, الصباح, شيء, لماذا, القلب, امراه, باب, دمي, الشعر, صوت, النار, المطر, النهر, اه, ليل, النهار, القصيده, سوي, المدينه, مره, عندما, عينيك, يدي\n",
      "\n",
      "Topic  2\n",
      "انا, انت, اني, كنت, الحب, قلبي, الهوي, قلت, مني, فيك, القلب, وانت, عني, وانا, منك, احبك, نفسي, اليك, ام, روحي, عندي, يوما, شيء, عيني, ادري, فءادي, عنك, اري, واذا, حتي, حبي, عمري, عينيك, حبك, حب, هواك, فانا, اين, العشق, فاني, فاذا, الحياه, العمر, وحدي, الغرام, واني, حياتي, شعري, شءت, دمي\n",
      "\n",
      "Topic  3\n",
      "اله, الحق, الناس, انت, خير, الامر, عبد, الدين, الوجود, الارض, شيء, اهل, واله, الاله, الدنيا, العلم, الخلق, الهدي, رب, جاء, عنه, حق, محمد, فهو, النبي, نور, رسول, وجود, امر, ربي, الرحمن, ايها, انما, الكون, فينا, وكل, الخير, الاسلام, الوري, باله, ال, لمن, جل, فان, قل, اليه, دين, سواه, المصطفي, سر\n",
      "------------------------------------------\n",
      "\n",
      "Topic  0\n",
      "علي, الي, ولم, فما, حتي, الدهر, يوم, فان, الناس, الزمان, وكم, لقد, ال, فلم, المجد, ابن, فقد, بني, ام, تري, عنه, وهي, منهم, فتي, وليس, اليه, اما, منك, الدنيا, واذا, الملك, العلي, وهل, خير, الايام, وكان, الندي, فيا, الوري, ملك, ابي, يد, مصر, اري, يكن, الردي, كانما, راي, القوم, الصبا\n",
      "\n",
      "Topic  1\n",
      "علي, الي, اليل, الان, الارض, البحر, بلا, الريح, الموت, وانا, الماء, الشمس, اخر, حتي, اين, الروح, الحياه, ايها, الصمت, السماء, الطريق, الوقت, العمر, المساء, الحزن, الحلم, لماذا, وجه, الفجر, شيء, الصباح, امراه, دمي, القلب, الشعر, باب, اه, صوت, المطر, النار, النهر, القصيده, ليل, المدينه, عينيك, النهار, سوي, مره, عندما, يدي\n",
      "\n",
      "Topic  2\n",
      "انت, الهوي, كنت, الحب, قلبي, اني, فيك, القلب, منك, قلت, وانت, مني, اليك, عني, فءادي, عيني, نفسي, عنك, ام, عندي, روحي, هواك, احبك, الغرام, يوما, الحسن, حب, حتي, الشوق, يامن, حبي, اري, فاني, قلب, العمر, عينيك, حبك, ويا, واذا, انك, فما, اين, ادري, هوي, شيء, الحبيب, عمري, فقلت, قل, الحياه\n",
      "\n",
      "Topic  3\n",
      "اله, الحق, الناس, خير, عبد, الامر, الدين, الوجود, واله, شيء, اهل, الارض, الاله, الخلق, الدنيا, العلم, الهدي, رب, جاء, عنه, حق, محمد, رسول, فهو, النبي, نور, وجود, ربي, امر, الرحمن, الكون, انما, ايها, فينا, باله, الخير, وكل, الاسلام, انت, الوري, لمن, فان, ال, جل, قلت, دين, قل, اليه, المصطفي, سواه\n",
      "\n",
      "Topic  4\n",
      "انا, اني, وانا, ادري, شيء, فانا, مني, اكون, واذا, فاذا, اري, ام, عني, وحدي, حتي, الحق, يوما, دمي, داءما, قلت, واني, كنت, عندي, معي, وها, نفسي, انما, لكني, حبيبتي, ولم, شاعر, باني, يدي, منا, لاني, الناس, جءت, شيءا, شعري, عمري, ولست, فاني, يقول, داخلي, اكن, سوي, دوما, العشق, اقول, الحياه\n",
      "------------------------------------------\n"
     ]
    }
   ],
   "source": [
    "topic_nums = list(np.arange(3, 6, 1))\n",
    "\n",
    "#nmf_models = []\n",
    "for num in topic_nums:\n",
    "    nmf = NMF(num)\n",
    "    #nmf_models.append(nmf)\n",
    "    nmf.fit_transform(doc_words)\n",
    "    display_topics(nmf, tfidf.get_feature_names(), 50)\n",
    "    print(\"------------------------------------------\")"
   ]
  },
  {
   "cell_type": "code",
   "execution_count": 101,
   "metadata": {
    "id": "9IdwSuG9aprE"
   },
   "outputs": [],
   "source": [
    "nmf_model = NMF(8)\n",
    "doc_topic = nmf_model.fit_transform(doc_words)"
   ]
  },
  {
   "cell_type": "code",
   "execution_count": 102,
   "metadata": {
    "colab": {
     "base_uri": "https://localhost:8080/",
     "height": 390
    },
    "id": "k3Owx25la154",
    "outputId": "c6020c91-044f-4d71-eaa7-ff07ac404232"
   },
   "outputs": [
    {
     "data": {
      "text/html": [
       "<div>\n",
       "<style scoped>\n",
       "    .dataframe tbody tr th:only-of-type {\n",
       "        vertical-align: middle;\n",
       "    }\n",
       "\n",
       "    .dataframe tbody tr th {\n",
       "        vertical-align: top;\n",
       "    }\n",
       "\n",
       "    .dataframe thead th {\n",
       "        text-align: right;\n",
       "    }\n",
       "</style>\n",
       "<table border=\"1\" class=\"dataframe\">\n",
       "  <thead>\n",
       "    <tr style=\"text-align: right;\">\n",
       "      <th></th>\n",
       "      <th>ءا</th>\n",
       "      <th>ءات</th>\n",
       "      <th>ءادي</th>\n",
       "      <th>ءاطرافهن</th>\n",
       "      <th>ءالا</th>\n",
       "      <th>ءالحسن</th>\n",
       "      <th>ءالفنا</th>\n",
       "      <th>ءاله</th>\n",
       "      <th>ءالهي</th>\n",
       "      <th>ءان</th>\n",
       "      <th>...</th>\n",
       "      <th>کنهمال</th>\n",
       "      <th>کنهن</th>\n",
       "      <th>کني</th>\n",
       "      <th>کهتجرنا</th>\n",
       "      <th>کهتدي</th>\n",
       "      <th>کهتزت</th>\n",
       "      <th>کهتضام</th>\n",
       "      <th>کهتمت</th>\n",
       "      <th>کهل</th>\n",
       "      <th>کهلنا</th>\n",
       "    </tr>\n",
       "  </thead>\n",
       "  <tbody>\n",
       "    <tr>\n",
       "      <th>component_1</th>\n",
       "      <td>0.000</td>\n",
       "      <td>0.0</td>\n",
       "      <td>0.0</td>\n",
       "      <td>0.0</td>\n",
       "      <td>0.0</td>\n",
       "      <td>0.0</td>\n",
       "      <td>0.0</td>\n",
       "      <td>0.0</td>\n",
       "      <td>0.0</td>\n",
       "      <td>0.0</td>\n",
       "      <td>...</td>\n",
       "      <td>0.000</td>\n",
       "      <td>0.0</td>\n",
       "      <td>0.001</td>\n",
       "      <td>0.0</td>\n",
       "      <td>0.0</td>\n",
       "      <td>0.0</td>\n",
       "      <td>0.0</td>\n",
       "      <td>0.0</td>\n",
       "      <td>0.0</td>\n",
       "      <td>0.000</td>\n",
       "    </tr>\n",
       "    <tr>\n",
       "      <th>component_2</th>\n",
       "      <td>0.001</td>\n",
       "      <td>0.0</td>\n",
       "      <td>0.0</td>\n",
       "      <td>0.0</td>\n",
       "      <td>0.0</td>\n",
       "      <td>0.0</td>\n",
       "      <td>0.0</td>\n",
       "      <td>0.0</td>\n",
       "      <td>0.0</td>\n",
       "      <td>0.0</td>\n",
       "      <td>...</td>\n",
       "      <td>0.000</td>\n",
       "      <td>0.0</td>\n",
       "      <td>0.000</td>\n",
       "      <td>0.0</td>\n",
       "      <td>0.0</td>\n",
       "      <td>0.0</td>\n",
       "      <td>0.0</td>\n",
       "      <td>0.0</td>\n",
       "      <td>0.0</td>\n",
       "      <td>0.000</td>\n",
       "    </tr>\n",
       "    <tr>\n",
       "      <th>component_3</th>\n",
       "      <td>0.000</td>\n",
       "      <td>0.0</td>\n",
       "      <td>0.0</td>\n",
       "      <td>0.0</td>\n",
       "      <td>0.0</td>\n",
       "      <td>0.0</td>\n",
       "      <td>0.0</td>\n",
       "      <td>0.0</td>\n",
       "      <td>0.0</td>\n",
       "      <td>0.0</td>\n",
       "      <td>...</td>\n",
       "      <td>0.000</td>\n",
       "      <td>0.0</td>\n",
       "      <td>0.000</td>\n",
       "      <td>0.0</td>\n",
       "      <td>0.0</td>\n",
       "      <td>0.0</td>\n",
       "      <td>0.0</td>\n",
       "      <td>0.0</td>\n",
       "      <td>0.0</td>\n",
       "      <td>0.001</td>\n",
       "    </tr>\n",
       "    <tr>\n",
       "      <th>component_4</th>\n",
       "      <td>0.000</td>\n",
       "      <td>0.0</td>\n",
       "      <td>0.0</td>\n",
       "      <td>0.0</td>\n",
       "      <td>0.0</td>\n",
       "      <td>0.0</td>\n",
       "      <td>0.0</td>\n",
       "      <td>0.0</td>\n",
       "      <td>0.0</td>\n",
       "      <td>0.0</td>\n",
       "      <td>...</td>\n",
       "      <td>0.000</td>\n",
       "      <td>0.0</td>\n",
       "      <td>0.000</td>\n",
       "      <td>0.0</td>\n",
       "      <td>0.0</td>\n",
       "      <td>0.0</td>\n",
       "      <td>0.0</td>\n",
       "      <td>0.0</td>\n",
       "      <td>0.0</td>\n",
       "      <td>0.000</td>\n",
       "    </tr>\n",
       "    <tr>\n",
       "      <th>component_5</th>\n",
       "      <td>0.000</td>\n",
       "      <td>0.0</td>\n",
       "      <td>0.0</td>\n",
       "      <td>0.0</td>\n",
       "      <td>0.0</td>\n",
       "      <td>0.0</td>\n",
       "      <td>0.0</td>\n",
       "      <td>0.0</td>\n",
       "      <td>0.0</td>\n",
       "      <td>0.0</td>\n",
       "      <td>...</td>\n",
       "      <td>0.000</td>\n",
       "      <td>0.0</td>\n",
       "      <td>0.000</td>\n",
       "      <td>0.0</td>\n",
       "      <td>0.0</td>\n",
       "      <td>0.0</td>\n",
       "      <td>0.0</td>\n",
       "      <td>0.0</td>\n",
       "      <td>0.0</td>\n",
       "      <td>0.000</td>\n",
       "    </tr>\n",
       "    <tr>\n",
       "      <th>component_6</th>\n",
       "      <td>0.001</td>\n",
       "      <td>0.0</td>\n",
       "      <td>0.0</td>\n",
       "      <td>0.0</td>\n",
       "      <td>0.0</td>\n",
       "      <td>0.0</td>\n",
       "      <td>0.0</td>\n",
       "      <td>0.0</td>\n",
       "      <td>0.0</td>\n",
       "      <td>0.0</td>\n",
       "      <td>...</td>\n",
       "      <td>0.000</td>\n",
       "      <td>0.0</td>\n",
       "      <td>0.001</td>\n",
       "      <td>0.0</td>\n",
       "      <td>0.0</td>\n",
       "      <td>0.0</td>\n",
       "      <td>0.0</td>\n",
       "      <td>0.0</td>\n",
       "      <td>0.0</td>\n",
       "      <td>0.000</td>\n",
       "    </tr>\n",
       "    <tr>\n",
       "      <th>component_7</th>\n",
       "      <td>0.000</td>\n",
       "      <td>0.0</td>\n",
       "      <td>0.0</td>\n",
       "      <td>0.0</td>\n",
       "      <td>0.0</td>\n",
       "      <td>0.0</td>\n",
       "      <td>0.0</td>\n",
       "      <td>0.0</td>\n",
       "      <td>0.0</td>\n",
       "      <td>0.0</td>\n",
       "      <td>...</td>\n",
       "      <td>0.001</td>\n",
       "      <td>0.0</td>\n",
       "      <td>0.000</td>\n",
       "      <td>0.0</td>\n",
       "      <td>0.0</td>\n",
       "      <td>0.0</td>\n",
       "      <td>0.0</td>\n",
       "      <td>0.0</td>\n",
       "      <td>0.0</td>\n",
       "      <td>0.000</td>\n",
       "    </tr>\n",
       "    <tr>\n",
       "      <th>component_8</th>\n",
       "      <td>0.000</td>\n",
       "      <td>0.0</td>\n",
       "      <td>0.0</td>\n",
       "      <td>0.0</td>\n",
       "      <td>0.0</td>\n",
       "      <td>0.0</td>\n",
       "      <td>0.0</td>\n",
       "      <td>0.0</td>\n",
       "      <td>0.0</td>\n",
       "      <td>0.0</td>\n",
       "      <td>...</td>\n",
       "      <td>0.000</td>\n",
       "      <td>0.0</td>\n",
       "      <td>0.000</td>\n",
       "      <td>0.0</td>\n",
       "      <td>0.0</td>\n",
       "      <td>0.0</td>\n",
       "      <td>0.0</td>\n",
       "      <td>0.0</td>\n",
       "      <td>0.0</td>\n",
       "      <td>0.000</td>\n",
       "    </tr>\n",
       "  </tbody>\n",
       "</table>\n",
       "<p>8 rows × 497985 columns</p>\n",
       "</div>"
      ],
      "text/plain": [
       "                ءا  ءات  ءادي  ءاطرافهن  ءالا  ءالحسن  ءالفنا  ءاله  ءالهي  \\\n",
       "component_1  0.000  0.0  0.0   0.0       0.0   0.0     0.0     0.0   0.0     \n",
       "component_2  0.001  0.0  0.0   0.0       0.0   0.0     0.0     0.0   0.0     \n",
       "component_3  0.000  0.0  0.0   0.0       0.0   0.0     0.0     0.0   0.0     \n",
       "component_4  0.000  0.0  0.0   0.0       0.0   0.0     0.0     0.0   0.0     \n",
       "component_5  0.000  0.0  0.0   0.0       0.0   0.0     0.0     0.0   0.0     \n",
       "component_6  0.001  0.0  0.0   0.0       0.0   0.0     0.0     0.0   0.0     \n",
       "component_7  0.000  0.0  0.0   0.0       0.0   0.0     0.0     0.0   0.0     \n",
       "component_8  0.000  0.0  0.0   0.0       0.0   0.0     0.0     0.0   0.0     \n",
       "\n",
       "             ءان  ...  کنهمال  کنهن    کني  کهتجرنا  کهتدي  کهتزت  کهتضام  \\\n",
       "component_1  0.0  ...  0.000   0.0   0.001  0.0      0.0    0.0    0.0      \n",
       "component_2  0.0  ...  0.000   0.0   0.000  0.0      0.0    0.0    0.0      \n",
       "component_3  0.0  ...  0.000   0.0   0.000  0.0      0.0    0.0    0.0      \n",
       "component_4  0.0  ...  0.000   0.0   0.000  0.0      0.0    0.0    0.0      \n",
       "component_5  0.0  ...  0.000   0.0   0.000  0.0      0.0    0.0    0.0      \n",
       "component_6  0.0  ...  0.000   0.0   0.001  0.0      0.0    0.0    0.0      \n",
       "component_7  0.0  ...  0.001   0.0   0.000  0.0      0.0    0.0    0.0      \n",
       "component_8  0.0  ...  0.000   0.0   0.000  0.0      0.0    0.0    0.0      \n",
       "\n",
       "             کهتمت  کهل  کهلنا  \n",
       "component_1  0.0    0.0  0.000  \n",
       "component_2  0.0    0.0  0.000  \n",
       "component_3  0.0    0.0  0.001  \n",
       "component_4  0.0    0.0  0.000  \n",
       "component_5  0.0    0.0  0.000  \n",
       "component_6  0.0    0.0  0.000  \n",
       "component_7  0.0    0.0  0.000  \n",
       "component_8  0.0    0.0  0.000  \n",
       "\n",
       "[8 rows x 497985 columns]"
      ]
     },
     "execution_count": 102,
     "metadata": {},
     "output_type": "execute_result"
    }
   ],
   "source": [
    "topic_word = pd.DataFrame(nmf_model.components_.round(3),\n",
    "             index = [\"component_1\",\"component_2\",\"component_3\",\"component_4\",\"component_5\"\n",
    "             ,\"component_6\",\"component_7\",\"component_8\"],\n",
    "             columns = tfidf.get_feature_names())\n",
    "topic_word"
   ]
  },
  {
   "cell_type": "code",
   "execution_count": 103,
   "metadata": {
    "colab": {
     "base_uri": "https://localhost:8080/"
    },
    "id": "NnbvjFqVbBAE",
    "outputId": "a4914eff-213f-4a29-f706-571614582180"
   },
   "outputs": [
    {
     "name": "stdout",
     "output_type": "stream",
     "text": [
      "\n",
      "Topic  0\n",
      "حتي, الدهر, فما, يوم, ولم, الناس, الزمان, ال, المجد, ام, فان, ابن, تري, واذا, بني, عنه, وكم, وهي, الدنيا, منهم, لقد, فلم, فقد, مصر, خير, منك, الملك, العلي, الوري, فتي, ملك, وكان, الارض, يكن, اليه, الندي, وليس, الايام, قوم, وجه, راي, اما, القوم, يوما, الردي, يري, فيهم, اهل, عنها, العلا\n",
      "\n",
      "Topic  1\n",
      "اليل, الان, الارض, البحر, وانا, حتي, الموت, الريح, اين, الحياه, الشمس, ايها, الروح, الماء, العمر, شيء, الصمت, اخر, لماذا, الوقت, وجه, اه, السماء, القلب, الشعر, المساء, الحزن, ام, الحلم, الفجر, دمي, عينيك, صوت, بلا, امراه, الطريق, المطر, ربما, ليل, عندما, الصباح, المدينه, النار, القصيده, النهر, النهار, الكلمات, مره, باب, الكون\n",
      "\n",
      "Topic  2\n",
      "الهوي, قلبي, الحب, كنت, اني, القلب, مني, عني, فءادي, قلت, عيني, نفسي, منك, فيك, الغرام, عندي, الحسن, فما, الشوق, هواك, اليك, اري, روحي, فاني, فقلت, واني, حب, هوي, ويا, يوما, فان, فيا, الوجد, ولم, قلب, الفءاد, حتي, حبي, الحبيب, ليلي, الصبا, النوي, عنك, احبك, بينا, وجدي, العشق, العين, الدمع, لقد\n",
      "\n",
      "Topic  3\n",
      "اله, الحق, الناس, عبد, واله, الامر, خير, الدين, الوجود, اهل, الاله, رسول, الخلق, شيء, العلم, الهدي, النبي, جاء, ربي, محمد, رب, وجود, الرحمن, حق, الدنيا, باله, عنه, فان, امر, نور, الكون, الارض, الخير, فهو, الاسلام, المصطفي, جل, وكل, فينا, القران, لمن, دين, قلت, سواه, حكم, قضي, اليه, خلق, الوري, استغفر\n",
      "\n",
      "Topic  4\n",
      "انا, اني, وانا, واذا, ادري, اكون, فانا, مني, شيء, كنت, فاذا, عني, قلت, وحدي, اري, داءما, الحق, دمي, عندي, ام, يوما, معي, وها, نفسي, لكني, حبيبتي, باني, لاني, شاعر, انما, يدي, شعري, جءت, عمري, واني, اكن, اقول, الوجود, فاني, ولست, داخلي, اهوي, يقول, شيءا, وجودي, دوما, منا, حتي, العشق, شءت\n",
      "\n",
      "Topic  5\n",
      "علي, بلا, سلام, ولم, ابي, سوي, يدي, يد, ويا, فيا, واني, وكنت, عجل, الحمام, الورد, بكيت, وكم, فلم, متي, السلام, وهل, الماء, اخي, كاني, اليالي, احد, الوجد, لقد, باب, عيني, حجر, امام, الدار, اري, اقول, الحي, كانها, بغداد, الناي, نفسي, تجري, الم, وقفت, اسفي, وانت, اما, ابكي, ولي, مني, الدموع\n",
      "\n",
      "Topic  6\n",
      "الي, بلا, ولم, الطريق, اليك, اليه, نفسي, سوي, اخر, نظرت, يدي, متي, البحر, وكم, فلم, فان, وانت, انظر, اشكو, كاني, مني, اري, احد, لقد, ابي, وليس, فيا, فقد, اليها, اني, احب, وعن, سبيل, اقول, وكنت, الابد, واني, وكيف, امام, وانظر, لدي, اخري, وقلت, اريد, احن, ويا, اذن, والي, وحين, اما\n",
      "\n",
      "Topic  7\n",
      "انت, وانت, فيك, منك, كنت, اليك, عنك, ام, ايها, قلت, انك, فانت, يامن, الوجود, قل, شيء, وجهك, شءت, تكن, عينيك, سواك, اين, وحدك, لانك, وانا, يديك, اراك, انما, وانك, يابن, واذا, سيدي, الجمال, قلبك, سر, روح, نفسك, بانك, احبك, ادري, اني, غيرك, مثلك, الشعر, نور, الكون, زلت, فاذا, تدري, الزمان\n"
     ]
    }
   ],
   "source": [
    "display_topics(nmf_model, tfidf.get_feature_names(), 50)\n"
   ]
  },
  {
   "cell_type": "markdown",
   "metadata": {
    "id": "FkLVJTOW9vX-"
   },
   "source": [
    "3. LSA"
   ]
  },
  {
   "cell_type": "markdown",
   "metadata": {
    "id": "NEpfJyrd52kR"
   },
   "source": [
    "**Topic modeling visualizton**"
   ]
  },
  {
   "cell_type": "code",
   "execution_count": 106,
   "metadata": {
    "colab": {
     "base_uri": "https://localhost:8080/",
     "height": 563
    },
    "id": "bDGCsKcnen9j",
    "outputId": "e26db1ab-1c98-4f40-d0ac-98ac315c4ca5"
   },
   "outputs": [
    {
     "data": {
      "text/plain": [
       "Text(0.5, 1.0, 'Distribution of Document Word Counts')"
      ]
     },
     "execution_count": 106,
     "metadata": {},
     "output_type": "execute_result"
    },
    {
     "data": {
      "image/png": "[encoded data removed]",
      "text/plain": [
       "<Figure size 1920x1120 with 1 Axes>"
      ]
     },
     "metadata": {
      "needs_background": "light"
     },
     "output_type": "display_data"
    }
   ],
   "source": [
    "doc_lens = [len(d) for d in df.poem_text]\n",
    "\n",
    "# Plot\n",
    "plt.figure(figsize=(12,7), dpi=160)\n",
    "plt.hist(doc_lens, bins = 1000, color='navy')\n",
    "plt.text(100, 40, \"Mean   : \" + str(round(np.mean(doc_lens))))\n",
    "plt.text(100,  35, \"Median : \" + str(round(np.median(doc_lens))))\n",
    "plt.text(100,  30, \"Stdev   : \" + str(round(np.std(doc_lens))))\n",
    "plt.text(100,  25, \"1%ile    : \" + str(round(np.quantile(doc_lens, q=0.01))))\n",
    "plt.text(100,  20, \"99%ile  : \" + str(round(np.quantile(doc_lens, q=0.99))))\n",
    "\n",
    "plt.gca().set(xlim=(0, 1000), ylabel='Number of Documents', xlabel='Document Word Count')\n",
    "plt.tick_params(size=16)\n",
    "plt.xticks(np.linspace(0,1000,9))\n",
    "plt.title('Distribution of Document Word Counts', fontdict=dict(size=15))"
   ]
  },
  {
   "cell_type": "code",
   "execution_count": 109,
   "metadata": {
    "colab": {
     "base_uri": "https://localhost:8080/"
    },
    "id": "nlIjMCe98wFn",
    "outputId": "49af176d-7cb3-46a1-e751-52f9511ede5d"
   },
   "outputs": [
    {
     "name": "stdout",
     "output_type": "stream",
     "text": [
      "[['عيناك', 'غابتا', 'نخيل', 'ساعه', 'السحر', 'او', 'شرفتان', 'راح', 'يناي', 'عنهما', 'القمر', 'عيناك', 'حين', 'تبسمان', 'تورق', 'الكروم', 'وترقص', 'الاضواء', 'كالاقمار', 'في', 'نهر', 'يرجه', 'المجذاف', 'وهنا', 'ساعه', 'السحر', 'كانما', 'تنبض', 'في', 'غوريهما', 'النجوم', 'وتغرقان', 'في', 'ضباب', 'من', 'اسي', 'شفيف', 'كالبحر', 'سرح', 'اليدين', 'فوقه', 'المساء', 'دفء', 'الشتاء', 'فيه', 'وارتعاشه', 'الخريف', 'والموت', 'والميلاد', 'والظلام', 'والضياء', 'فتستفيق', 'ملء', 'روحي', 'رعشه', 'البكاء', 'ونشوه', 'وحشيه', 'تعانق', 'السماء', 'كنشوه', 'الطفل', 'اذا', 'خاف', 'من', 'القمر', 'كان', 'اقواس', 'السحاب', 'تشرب', 'الغيوم', 'وقطره', 'فقطره', 'تذوب', 'في', 'المطر', 'وكركر', 'الاطفال', 'في', 'عراءش', 'الكروم', 'ودغدغت', 'صمت', 'العصافير', 'علي', 'الشجر', 'انشوده', 'المطر', 'مطر', 'مطر', 'مطر', 'تثاءب', 'المساء', 'والغيوم', 'ما', 'تزال', 'تسح', 'ما', 'تسح', 'من', 'دموعها', 'الثقال', 'كان', 'طفلا', 'بات', 'يهذي', 'قبل', 'ان', 'ينام', 'بان', 'امه', 'التي', 'افاق', 'منذ', 'عام', 'فلم', 'يجدها', 'ثم', 'حين', 'لج', 'في', 'السءال', 'قالوا', 'له', 'بعد', 'غد', 'تعود', 'لا', 'بد', 'ان', 'تعود', 'وان', 'تهامس', 'الرفاق', 'انها', 'هناك', 'في', 'جانب', 'التل', 'تنام', 'نومه', 'الحود', 'تسف', 'من', 'ترابها', 'وتشرب', 'المطر', 'كان', 'صيادا', 'حزينا', 'يجمع', 'الشباك', 'ويلعن', 'المياه', 'والقدر', 'وينثر', 'الغناء', 'حيث', 'يافل', 'القمر', 'مطر', 'مطر', 'اتعلمين', 'اي', 'حزن', 'يبعث', 'المطر', 'وكيف', 'تنشج', 'المزاريب', 'اذا', 'انهمر', 'وكيف', 'يشعر', 'الوحيد', 'فيه', 'بالضياع', 'بلا', 'انتهاء', 'كالدم', 'المراق', 'كالجياع', 'كالحب', 'كالاطفال', 'كالموتي', 'هو', 'المطر', 'ومقلتاك', 'بي', 'تطيفان', 'مع', 'المطر', 'وعبر', 'امواج', 'الخليج', 'تمسح', 'البروق', 'سواحل', 'العراق', 'بالنجوم', 'والمحار', 'كانها', 'تهم', 'بالشروق', 'فيسحب', 'اليل', 'عليها', 'من', 'دم', 'دثار', 'اصيح', 'بالخليج', 'ياخليج', 'ياواهب', 'الءلء', 'والمحار', 'والردي', 'فيرجع', 'الصدي', 'كانه', 'النشيج', 'ياخليج', 'ياواهب', 'المحار', 'والردي', 'اكاد', 'اسمع', 'العراق', 'يذخر', 'الرعود', 'ويخزن', 'البروق', 'في', 'السهول', 'والجبال', 'حتي', 'اذا', 'ما', 'فض', 'عنها', 'ختمها', 'الرجال', 'لم', 'ترك', 'الرياح', 'من', 'ثمود', 'في', 'الواد', 'من', 'اثر', 'اكاد', 'اسمع', 'النخيل', 'يشرب', 'المطر', 'واسمع', 'القري', 'تءن', 'والمهاجرين', 'يصارعون', 'بالمجاذيف', 'وبالقلوع', 'عواصف', 'الخليج', 'والرعود', 'منشدين', 'مطر', 'مطر', 'مطر', 'وفي', 'العراق', 'جوع', 'وينثر', 'الغلال', 'فيه', 'موسم', 'الحصاد', 'لتشبع', 'الغربان', 'والجراد', 'وتطحن', 'الشوان', 'والحجر', 'رحي', 'تدور', 'في', 'الحقول', 'حولها', 'بشر', 'مطر', 'مطر', 'مطر', 'وكم', 'ذرفنا', 'ليله', 'الرحيل', 'من', 'دموع', 'ثم', 'اعتلنا', 'خوف', 'ان', 'نلام', 'بالمطر', 'مطر', 'مطر', 'ومنذ', 'ان', 'كنا', 'صغارا', 'كانت', 'السماء', 'تغيم', 'في', 'الشتاء', 'ويهطل', 'المطر', 'وكل', 'عام', 'حين', 'يعشب', 'الثري', 'نجوع', 'ما', 'مر', 'عام', 'والعراق', 'ليس', 'فيه', 'جوع', 'مطر', 'مطر', 'مطر', 'في', 'كل', 'قطره', 'من', 'المطر', 'حمراء', 'او', 'صفراء', 'من', 'اجنه', 'الزهر', 'وكل', 'دمعه', 'من', 'الجياع', 'والعراه', 'وكل', 'قطره', 'تراق', 'من', 'دم', 'العبيد', 'فهي', 'ابتسام', 'في', 'انتظار', 'مبسم', 'جديد', 'او', 'حلمه', 'توردت', 'علي', 'فم', 'الوليد', 'في', 'عالم', 'الغد', 'الفتي', 'واهب', 'الحياه', 'مطر', 'مطر', 'مطر', 'سيعشب', 'العراق', 'بالمطر', 'اصيح', 'بالخليج', 'ياخليج', 'ياواهب', 'الءلء', 'والمحار', 'والردي', 'فيرجع', 'الصدي', 'كانه', 'النشيج', 'ياخليج', 'ياواهب', 'المحار', 'والردي', 'وينثر', 'الخليج', 'من', 'هباته', 'الكثار', 'علي', 'الرمال', 'رغوه', 'الاجاج', 'والمحار', 'وما', 'تبقي', 'من', 'عظام', 'باءس', 'غريق', 'من', 'المهاجرين', 'ظل', 'يشرب', 'الردي', 'من', 'لجه', 'الخليج', 'والقرار', 'وفي', 'العراق', 'الف', 'افعي', 'تشرب', 'الرحيق', 'من', 'زهره', 'يربها', 'الفرات', 'بالندي', 'واسمع', 'الصدي', 'يرن', 'في', 'الخليج', 'مطر', 'مطر', 'مطر', 'في', 'كل', 'قطره', 'من', 'المطر', 'حمراء', 'او', 'صفراء', 'من', 'اجنه', 'الزهر', 'وكل', 'دمعه', 'من', 'الجياع', 'والعراه', 'وكل', 'قطره', 'تراق', 'من', 'دم', 'العبيد', 'فهي', 'ابتسام', 'في', 'انتظار', 'مبسم', 'جديد', 'او', 'حلمه', 'توردت', 'علي', 'فم', 'الوليد', 'في', 'عالم', 'الغد', 'الفتي', 'واهب', 'الحياه', 'ويهطل', 'المطر']]\n"
     ]
    }
   ],
   "source": [
    "def sent_to_words(sentences):\n",
    "    for sent in sentences:\n",
    "        sent = re.sub('\\S*@\\S*\\s?', '', sent)  # remove emails\n",
    "        sent = re.sub('\\s+', ' ', sent)  # remove newline chars\n",
    "        sent = re.sub(\"\\'\", \"\", sent)  # remove single quotes\n",
    "        sent = gensim.utils.simple_preprocess(str(sent), deacc=True) \n",
    "        yield(sent)\n",
    "\n",
    "# Convert to list\n",
    "data = df.poem_text.values.tolist()\n",
    "data_words = list(sent_to_words(data))\n",
    "print(data_words[:1])"
   ]
  },
  {
   "cell_type": "markdown",
   "metadata": {
    "id": "OjAvwqza_EGa"
   },
   "source": [
    "## K-means"
   ]
  },
  {
   "cell_type": "code",
   "execution_count": 112,
   "metadata": {
    "id": "Yj5j6aUE_D1-"
   },
   "outputs": [],
   "source": [
    "from sklearn.cluster import KMeans\n",
    "\n",
    "documents = df \n",
    "\n",
    "X = tfidf.fit_transform(df.poem_text)"
   ]
  },
  {
   "cell_type": "code",
   "execution_count": 113,
   "metadata": {
    "id": "_ekx3szcDsbL"
   },
   "outputs": [
    {
     "name": "stdout",
     "output_type": "stream",
     "text": [
      "Top terms per cluster:\n",
      "Cluster 0:\n",
      " انا\n",
      " الهوي\n",
      " الحب\n",
      " انت\n",
      " قلبي\n",
      " علي\n",
      " اني\n",
      " القلب\n",
      " الي\n",
      " فيك\n",
      "Cluster 1:\n",
      " علي\n",
      " الي\n",
      " اليل\n",
      " حتي\n",
      " الارض\n",
      " انا\n",
      " الريح\n",
      " بلا\n",
      " وانا\n",
      " الان\n",
      "Cluster 2:\n",
      " علي\n",
      " الي\n",
      " انا\n",
      " اليل\n",
      " الان\n",
      " انت\n",
      " البحر\n",
      " الارض\n",
      " وانا\n",
      " حتي\n",
      "Cluster 3:\n",
      " اله\n",
      " علي\n",
      " الي\n",
      " الناس\n",
      " الحق\n",
      " انت\n",
      " فان\n",
      " فما\n",
      " حتي\n",
      " عنه\n",
      "Cluster 4:\n",
      " علي\n",
      " الي\n",
      " حتي\n",
      " فما\n",
      " ولم\n",
      " الناس\n",
      " فان\n",
      " اني\n",
      " يوم\n",
      " ام\n",
      "Cluster 5:\n",
      " كنت\n",
      " علي\n",
      " اني\n",
      " الي\n",
      " حتي\n",
      " انت\n",
      " منك\n",
      " فما\n",
      " انا\n",
      " ولم\n",
      "Cluster 6:\n",
      " علي\n",
      " الي\n",
      " ولم\n",
      " فما\n",
      " الدهر\n",
      " حتي\n",
      " اله\n",
      " الناس\n",
      " فان\n",
      " وكم\n",
      "Cluster 7:\n",
      " علي\n",
      " الي\n",
      " واذا\n",
      " حتي\n",
      " مصر\n",
      " الزمان\n",
      " يوم\n",
      " اله\n",
      " الدهر\n",
      " ال\n"
     ]
    }
   ],
   "source": [
    "true_k = 8\n",
    "model = KMeans(n_clusters=true_k, init='k-means++',random_state=100, max_iter=100, n_init=1)\n",
    "model.fit(X)\n",
    "\n",
    "print(\"Top terms per cluster:\")\n",
    "order_centroids = model.cluster_centers_.argsort()[:, ::-1]\n",
    "terms = tfidf.get_feature_names()\n",
    "for i in range(true_k):\n",
    "    print(\"Cluster %d:\" % i),\n",
    "    for ind in order_centroids[i, :10]:\n",
    "        print(' %s' % terms[ind])"
   ]
  },
  {
   "cell_type": "code",
   "execution_count": 114,
   "metadata": {
    "colab": {
     "base_uri": "https://localhost:8080/"
    },
    "id": "9T91x1d1Dzzp",
    "outputId": "fec0a5d6-0b28-4ee3-b15f-eb08b354d234"
   },
   "outputs": [
    {
     "data": {
      "text/plain": [
       "46697.72167736028"
      ]
     },
     "execution_count": 114,
     "metadata": {},
     "output_type": "execute_result"
    }
   ],
   "source": [
    "model.inertia_"
   ]
  },
  {
   "cell_type": "code",
   "execution_count": 115,
   "metadata": {
    "colab": {
     "base_uri": "https://localhost:8080/"
    },
    "id": "xcGRZcqGD21a",
    "outputId": "3bec1eb5-e7d3-4e80-cd41-738b981b690b"
   },
   "outputs": [
    {
     "data": {
      "text/plain": [
       "array([[0.00000000e+00, 0.00000000e+00, 0.00000000e+00, ...,\n",
       "        0.00000000e+00, 0.00000000e+00, 0.00000000e+00],\n",
       "       [1.19431832e-05, 0.00000000e+00, 0.00000000e+00, ...,\n",
       "        0.00000000e+00, 0.00000000e+00, 0.00000000e+00],\n",
       "       [2.65240972e-05, 0.00000000e+00, 0.00000000e+00, ...,\n",
       "        0.00000000e+00, 0.00000000e+00, 0.00000000e+00],\n",
       "       ...,\n",
       "       [0.00000000e+00, 0.00000000e+00, 0.00000000e+00, ...,\n",
       "        0.00000000e+00, 0.00000000e+00, 9.89386597e-05],\n",
       "       [2.70507788e-05, 1.67113670e-05, 0.00000000e+00, ...,\n",
       "        0.00000000e+00, 1.89853433e-05, 0.00000000e+00],\n",
       "       [0.00000000e+00, 0.00000000e+00, 2.14225911e-05, ...,\n",
       "        0.00000000e+00, 0.00000000e+00, 0.00000000e+00]])"
      ]
     },
     "execution_count": 115,
     "metadata": {},
     "output_type": "execute_result"
    }
   ],
   "source": [
    "model.cluster_centers_"
   ]
  },
  {
   "cell_type": "code",
   "execution_count": 116,
   "metadata": {
    "colab": {
     "base_uri": "https://localhost:8080/",
     "height": 883
    },
    "id": "E2meEyHUEDSV",
    "outputId": "eeac3d95-20ea-4355-f43f-31b1b5954d35"
   },
   "outputs": [
    {
     "name": "stdout",
     "output_type": "stream",
     "text": [
      "Cluster 1 Inertia 46860.0891321261\n",
      "Cluster 2 Inertia 46809.614850181206\n",
      "Cluster 3 Inertia 46768.811169295215\n",
      "Cluster 4 Inertia 46749.166601440775\n",
      "Cluster 5 Inertia 46731.37237717665\n",
      "Cluster 6 Inertia 46714.13089839106\n",
      "Cluster 7 Inertia 46702.306087006524\n",
      "Cluster 8 Inertia 46687.640180911774\n",
      "Cluster 9 Inertia 46677.964478771064\n",
      "Cluster 10 Inertia 46667.1701766732\n",
      "Cluster 11 Inertia 46658.62747430282\n",
      "Cluster 12 Inertia 46652.26826553295\n",
      "Cluster 13 Inertia 46639.934233010514\n",
      "Cluster 14 Inertia 46631.00898852797\n",
      "Cluster 15 Inertia 46624.503266636915\n",
      "Cluster 16 Inertia 46615.50194469408\n",
      "Cluster 17 Inertia 46606.71473145326\n",
      "Cluster 18 Inertia 46602.81681095026\n",
      "Cluster 19 Inertia 46588.330150839836\n"
     ]
    },
    {
     "data": {
      "text/plain": [
       "Text(0, 0.5, 'WCSS')"
      ]
     },
     "execution_count": 116,
     "metadata": {},
     "output_type": "execute_result"
    },
    {
     "data": {
      "image/png": "[encoded data removed]",
      "text/plain": [
       "<Figure size 1440x864 with 1 Axes>"
      ]
     },
     "metadata": {
      "needs_background": "light"
     },
     "output_type": "display_data"
    }
   ],
   "source": [
    "wcss = []\n",
    "for i in range(1,20):\n",
    "\n",
    "  kmeans = KMeans(n_clusters=i,init='k-means++' ,max_iter=300,n_init=10,random_state=100)\n",
    "  kmeans.fit(X)\n",
    "  wcss.append(kmeans.inertia_)\n",
    "  print('Cluster', i, 'Inertia', kmeans.inertia_)\n",
    "plt.plot(range(1,20),wcss)\n",
    "plt.title('The Elbow Curve')\n",
    "plt.xlabel('Number of clusters')\n",
    "plt.ylabel('WCSS') ##WCSS stands for total within-cluster sum of square"
   ]
  },
  {
   "cell_type": "code",
   "execution_count": 117,
   "metadata": {
    "colab": {
     "base_uri": "https://localhost:8080/",
     "height": 386
    },
    "id": "FEmB7Ba7EJ3a",
    "outputId": "d1c1b56a-a133-419a-f7da-ac9b16091de9"
   },
   "outputs": [
    {
     "ename": "ModuleNotFoundError",
     "evalue": "No module named 'yellowbrick'",
     "output_type": "error",
     "traceback": [
      "\u001b[1;31m---------------------------------------------------------------------------\u001b[0m",
      "\u001b[1;31mModuleNotFoundError\u001b[0m                       Traceback (most recent call last)",
      "\u001b[1;32m<ipython-input-117-87a0b1cad7dd>\u001b[0m in \u001b[0;36m<module>\u001b[1;34m\u001b[0m\n\u001b[1;32m----> 1\u001b[1;33m \u001b[1;32mfrom\u001b[0m \u001b[0myellowbrick\u001b[0m\u001b[1;33m.\u001b[0m\u001b[0mcluster\u001b[0m \u001b[1;32mimport\u001b[0m \u001b[0mKElbowVisualizer\u001b[0m\u001b[1;33m\u001b[0m\u001b[1;33m\u001b[0m\u001b[0m\n\u001b[0m\u001b[0;32m      2\u001b[0m \u001b[0mmodel\u001b[0m \u001b[1;33m=\u001b[0m \u001b[0mKMeans\u001b[0m\u001b[1;33m(\u001b[0m\u001b[1;33m)\u001b[0m\u001b[1;33m\u001b[0m\u001b[1;33m\u001b[0m\u001b[0m\n\u001b[0;32m      3\u001b[0m \u001b[0mvisualizer\u001b[0m \u001b[1;33m=\u001b[0m \u001b[0mKElbowVisualizer\u001b[0m\u001b[1;33m(\u001b[0m\u001b[0mmodel\u001b[0m\u001b[1;33m,\u001b[0m \u001b[0mk\u001b[0m\u001b[1;33m=\u001b[0m\u001b[1;33m(\u001b[0m\u001b[1;36m1\u001b[0m\u001b[1;33m,\u001b[0m\u001b[1;36m12\u001b[0m\u001b[1;33m)\u001b[0m\u001b[1;33m)\u001b[0m\u001b[1;33m.\u001b[0m\u001b[0mfit\u001b[0m\u001b[1;33m(\u001b[0m\u001b[0mX\u001b[0m\u001b[1;33m)\u001b[0m\u001b[1;33m\u001b[0m\u001b[1;33m\u001b[0m\u001b[0m\n\u001b[0;32m      4\u001b[0m \u001b[0mvisualizer\u001b[0m\u001b[1;33m.\u001b[0m\u001b[0mshow\u001b[0m\u001b[1;33m(\u001b[0m\u001b[1;33m)\u001b[0m\u001b[1;33m;\u001b[0m\u001b[1;33m\u001b[0m\u001b[1;33m\u001b[0m\u001b[0m\n\u001b[0;32m      5\u001b[0m \u001b[1;31m# k = 5\u001b[0m\u001b[1;33m\u001b[0m\u001b[1;33m\u001b[0m\u001b[1;33m\u001b[0m\u001b[0m\n",
      "\u001b[1;31mModuleNotFoundError\u001b[0m: No module named 'yellowbrick'"
     ]
    }
   ],
   "source": [
    "from yellowbrick.cluster import KElbowVisualizer\n",
    "model = KMeans()\n",
    "visualizer = KElbowVisualizer(model, k=(1,12)).fit(X)\n",
    "visualizer.show();\n",
    "# k = 5 "
   ]
  },
  {
   "cell_type": "code",
   "execution_count": 119,
   "metadata": {
    "colab": {
     "base_uri": "https://localhost:8080/",
     "height": 855
    },
    "id": "EMPBzwqXESev",
    "outputId": "68613628-0cf2-404e-bede-805959e1c2ea"
   },
   "outputs": [
    {
     "name": "stdout",
     "output_type": "stream",
     "text": [
      "Error in callback <function flush_figures at 0x0000023525AA43A0> (for post_execute):\n"
     ]
    },
    {
     "ename": "KeyboardInterrupt",
     "evalue": "",
     "output_type": "error",
     "traceback": [
      "\u001b[1;31m---------------------------------------------------------------------------\u001b[0m",
      "\u001b[1;31mKeyboardInterrupt\u001b[0m                         Traceback (most recent call last)",
      "\u001b[1;32m~\\anaconda33\\lib\\site-packages\\ipykernel\\pylab\\backend_inline.py\u001b[0m in \u001b[0;36mflush_figures\u001b[1;34m()\u001b[0m\n\u001b[0;32m    119\u001b[0m         \u001b[1;31m# ignore the tracking, just draw and close all figures\u001b[0m\u001b[1;33m\u001b[0m\u001b[1;33m\u001b[0m\u001b[1;33m\u001b[0m\u001b[0m\n\u001b[0;32m    120\u001b[0m         \u001b[1;32mtry\u001b[0m\u001b[1;33m:\u001b[0m\u001b[1;33m\u001b[0m\u001b[1;33m\u001b[0m\u001b[0m\n\u001b[1;32m--> 121\u001b[1;33m             \u001b[1;32mreturn\u001b[0m \u001b[0mshow\u001b[0m\u001b[1;33m(\u001b[0m\u001b[1;32mTrue\u001b[0m\u001b[1;33m)\u001b[0m\u001b[1;33m\u001b[0m\u001b[1;33m\u001b[0m\u001b[0m\n\u001b[0m\u001b[0;32m    122\u001b[0m         \u001b[1;32mexcept\u001b[0m \u001b[0mException\u001b[0m \u001b[1;32mas\u001b[0m \u001b[0me\u001b[0m\u001b[1;33m:\u001b[0m\u001b[1;33m\u001b[0m\u001b[1;33m\u001b[0m\u001b[0m\n\u001b[0;32m    123\u001b[0m             \u001b[1;31m# safely show traceback if in IPython, else raise\u001b[0m\u001b[1;33m\u001b[0m\u001b[1;33m\u001b[0m\u001b[1;33m\u001b[0m\u001b[0m\n",
      "\u001b[1;32m~\\anaconda33\\lib\\site-packages\\ipykernel\\pylab\\backend_inline.py\u001b[0m in \u001b[0;36mshow\u001b[1;34m(close, block)\u001b[0m\n\u001b[0;32m     39\u001b[0m     \u001b[1;32mtry\u001b[0m\u001b[1;33m:\u001b[0m\u001b[1;33m\u001b[0m\u001b[1;33m\u001b[0m\u001b[0m\n\u001b[0;32m     40\u001b[0m         \u001b[1;32mfor\u001b[0m \u001b[0mfigure_manager\u001b[0m \u001b[1;32min\u001b[0m \u001b[0mGcf\u001b[0m\u001b[1;33m.\u001b[0m\u001b[0mget_all_fig_managers\u001b[0m\u001b[1;33m(\u001b[0m\u001b[1;33m)\u001b[0m\u001b[1;33m:\u001b[0m\u001b[1;33m\u001b[0m\u001b[1;33m\u001b[0m\u001b[0m\n\u001b[1;32m---> 41\u001b[1;33m             display(\n\u001b[0m\u001b[0;32m     42\u001b[0m                 \u001b[0mfigure_manager\u001b[0m\u001b[1;33m.\u001b[0m\u001b[0mcanvas\u001b[0m\u001b[1;33m.\u001b[0m\u001b[0mfigure\u001b[0m\u001b[1;33m,\u001b[0m\u001b[1;33m\u001b[0m\u001b[1;33m\u001b[0m\u001b[0m\n\u001b[0;32m     43\u001b[0m                 \u001b[0mmetadata\u001b[0m\u001b[1;33m=\u001b[0m\u001b[0m_fetch_figure_metadata\u001b[0m\u001b[1;33m(\u001b[0m\u001b[0mfigure_manager\u001b[0m\u001b[1;33m.\u001b[0m\u001b[0mcanvas\u001b[0m\u001b[1;33m.\u001b[0m\u001b[0mfigure\u001b[0m\u001b[1;33m)\u001b[0m\u001b[1;33m\u001b[0m\u001b[1;33m\u001b[0m\u001b[0m\n",
      "\u001b[1;32m~\\anaconda33\\lib\\site-packages\\IPython\\core\\display.py\u001b[0m in \u001b[0;36mdisplay\u001b[1;34m(include, exclude, metadata, transient, display_id, *objs, **kwargs)\u001b[0m\n\u001b[0;32m    311\u001b[0m             \u001b[0mpublish_display_data\u001b[0m\u001b[1;33m(\u001b[0m\u001b[0mdata\u001b[0m\u001b[1;33m=\u001b[0m\u001b[0mobj\u001b[0m\u001b[1;33m,\u001b[0m \u001b[0mmetadata\u001b[0m\u001b[1;33m=\u001b[0m\u001b[0mmetadata\u001b[0m\u001b[1;33m,\u001b[0m \u001b[1;33m**\u001b[0m\u001b[0mkwargs\u001b[0m\u001b[1;33m)\u001b[0m\u001b[1;33m\u001b[0m\u001b[1;33m\u001b[0m\u001b[0m\n\u001b[0;32m    312\u001b[0m         \u001b[1;32melse\u001b[0m\u001b[1;33m:\u001b[0m\u001b[1;33m\u001b[0m\u001b[1;33m\u001b[0m\u001b[0m\n\u001b[1;32m--> 313\u001b[1;33m             \u001b[0mformat_dict\u001b[0m\u001b[1;33m,\u001b[0m \u001b[0mmd_dict\u001b[0m \u001b[1;33m=\u001b[0m \u001b[0mformat\u001b[0m\u001b[1;33m(\u001b[0m\u001b[0mobj\u001b[0m\u001b[1;33m,\u001b[0m \u001b[0minclude\u001b[0m\u001b[1;33m=\u001b[0m\u001b[0minclude\u001b[0m\u001b[1;33m,\u001b[0m \u001b[0mexclude\u001b[0m\u001b[1;33m=\u001b[0m\u001b[0mexclude\u001b[0m\u001b[1;33m)\u001b[0m\u001b[1;33m\u001b[0m\u001b[1;33m\u001b[0m\u001b[0m\n\u001b[0m\u001b[0;32m    314\u001b[0m             \u001b[1;32mif\u001b[0m \u001b[1;32mnot\u001b[0m \u001b[0mformat_dict\u001b[0m\u001b[1;33m:\u001b[0m\u001b[1;33m\u001b[0m\u001b[1;33m\u001b[0m\u001b[0m\n\u001b[0;32m    315\u001b[0m                 \u001b[1;31m# nothing to display (e.g. _ipython_display_ took over)\u001b[0m\u001b[1;33m\u001b[0m\u001b[1;33m\u001b[0m\u001b[1;33m\u001b[0m\u001b[0m\n",
      "\u001b[1;32m~\\anaconda33\\lib\\site-packages\\IPython\\core\\formatters.py\u001b[0m in \u001b[0;36mformat\u001b[1;34m(self, obj, include, exclude)\u001b[0m\n\u001b[0;32m    178\u001b[0m             \u001b[0mmd\u001b[0m \u001b[1;33m=\u001b[0m \u001b[1;32mNone\u001b[0m\u001b[1;33m\u001b[0m\u001b[1;33m\u001b[0m\u001b[0m\n\u001b[0;32m    179\u001b[0m             \u001b[1;32mtry\u001b[0m\u001b[1;33m:\u001b[0m\u001b[1;33m\u001b[0m\u001b[1;33m\u001b[0m\u001b[0m\n\u001b[1;32m--> 180\u001b[1;33m                 \u001b[0mdata\u001b[0m \u001b[1;33m=\u001b[0m \u001b[0mformatter\u001b[0m\u001b[1;33m(\u001b[0m\u001b[0mobj\u001b[0m\u001b[1;33m)\u001b[0m\u001b[1;33m\u001b[0m\u001b[1;33m\u001b[0m\u001b[0m\n\u001b[0m\u001b[0;32m    181\u001b[0m             \u001b[1;32mexcept\u001b[0m\u001b[1;33m:\u001b[0m\u001b[1;33m\u001b[0m\u001b[1;33m\u001b[0m\u001b[0m\n\u001b[0;32m    182\u001b[0m                 \u001b[1;31m# FIXME: log the exception\u001b[0m\u001b[1;33m\u001b[0m\u001b[1;33m\u001b[0m\u001b[1;33m\u001b[0m\u001b[0m\n",
      "\u001b[1;32m~\\anaconda33\\lib\\site-packages\\decorator.py\u001b[0m in \u001b[0;36mfun\u001b[1;34m(*args, **kw)\u001b[0m\n\u001b[0;32m    229\u001b[0m             \u001b[1;32mif\u001b[0m \u001b[1;32mnot\u001b[0m \u001b[0mkwsyntax\u001b[0m\u001b[1;33m:\u001b[0m\u001b[1;33m\u001b[0m\u001b[1;33m\u001b[0m\u001b[0m\n\u001b[0;32m    230\u001b[0m                 \u001b[0margs\u001b[0m\u001b[1;33m,\u001b[0m \u001b[0mkw\u001b[0m \u001b[1;33m=\u001b[0m \u001b[0mfix\u001b[0m\u001b[1;33m(\u001b[0m\u001b[0margs\u001b[0m\u001b[1;33m,\u001b[0m \u001b[0mkw\u001b[0m\u001b[1;33m,\u001b[0m \u001b[0msig\u001b[0m\u001b[1;33m)\u001b[0m\u001b[1;33m\u001b[0m\u001b[1;33m\u001b[0m\u001b[0m\n\u001b[1;32m--> 231\u001b[1;33m             \u001b[1;32mreturn\u001b[0m \u001b[0mcaller\u001b[0m\u001b[1;33m(\u001b[0m\u001b[0mfunc\u001b[0m\u001b[1;33m,\u001b[0m \u001b[1;33m*\u001b[0m\u001b[1;33m(\u001b[0m\u001b[0mextras\u001b[0m \u001b[1;33m+\u001b[0m \u001b[0margs\u001b[0m\u001b[1;33m)\u001b[0m\u001b[1;33m,\u001b[0m \u001b[1;33m**\u001b[0m\u001b[0mkw\u001b[0m\u001b[1;33m)\u001b[0m\u001b[1;33m\u001b[0m\u001b[1;33m\u001b[0m\u001b[0m\n\u001b[0m\u001b[0;32m    232\u001b[0m     \u001b[0mfun\u001b[0m\u001b[1;33m.\u001b[0m\u001b[0m__name__\u001b[0m \u001b[1;33m=\u001b[0m \u001b[0mfunc\u001b[0m\u001b[1;33m.\u001b[0m\u001b[0m__name__\u001b[0m\u001b[1;33m\u001b[0m\u001b[1;33m\u001b[0m\u001b[0m\n\u001b[0;32m    233\u001b[0m     \u001b[0mfun\u001b[0m\u001b[1;33m.\u001b[0m\u001b[0m__doc__\u001b[0m \u001b[1;33m=\u001b[0m \u001b[0mfunc\u001b[0m\u001b[1;33m.\u001b[0m\u001b[0m__doc__\u001b[0m\u001b[1;33m\u001b[0m\u001b[1;33m\u001b[0m\u001b[0m\n",
      "\u001b[1;32m~\\anaconda33\\lib\\site-packages\\IPython\\core\\formatters.py\u001b[0m in \u001b[0;36mcatch_format_error\u001b[1;34m(method, self, *args, **kwargs)\u001b[0m\n\u001b[0;32m    222\u001b[0m     \u001b[1;34m\"\"\"show traceback on failed format call\"\"\"\u001b[0m\u001b[1;33m\u001b[0m\u001b[1;33m\u001b[0m\u001b[0m\n\u001b[0;32m    223\u001b[0m     \u001b[1;32mtry\u001b[0m\u001b[1;33m:\u001b[0m\u001b[1;33m\u001b[0m\u001b[1;33m\u001b[0m\u001b[0m\n\u001b[1;32m--> 224\u001b[1;33m         \u001b[0mr\u001b[0m \u001b[1;33m=\u001b[0m \u001b[0mmethod\u001b[0m\u001b[1;33m(\u001b[0m\u001b[0mself\u001b[0m\u001b[1;33m,\u001b[0m \u001b[1;33m*\u001b[0m\u001b[0margs\u001b[0m\u001b[1;33m,\u001b[0m \u001b[1;33m**\u001b[0m\u001b[0mkwargs\u001b[0m\u001b[1;33m)\u001b[0m\u001b[1;33m\u001b[0m\u001b[1;33m\u001b[0m\u001b[0m\n\u001b[0m\u001b[0;32m    225\u001b[0m     \u001b[1;32mexcept\u001b[0m \u001b[0mNotImplementedError\u001b[0m\u001b[1;33m:\u001b[0m\u001b[1;33m\u001b[0m\u001b[1;33m\u001b[0m\u001b[0m\n\u001b[0;32m    226\u001b[0m         \u001b[1;31m# don't warn on NotImplementedErrors\u001b[0m\u001b[1;33m\u001b[0m\u001b[1;33m\u001b[0m\u001b[1;33m\u001b[0m\u001b[0m\n",
      "\u001b[1;32m~\\anaconda33\\lib\\site-packages\\IPython\\core\\formatters.py\u001b[0m in \u001b[0;36m__call__\u001b[1;34m(self, obj)\u001b[0m\n\u001b[0;32m    339\u001b[0m                 \u001b[1;32mpass\u001b[0m\u001b[1;33m\u001b[0m\u001b[1;33m\u001b[0m\u001b[0m\n\u001b[0;32m    340\u001b[0m             \u001b[1;32melse\u001b[0m\u001b[1;33m:\u001b[0m\u001b[1;33m\u001b[0m\u001b[1;33m\u001b[0m\u001b[0m\n\u001b[1;32m--> 341\u001b[1;33m                 \u001b[1;32mreturn\u001b[0m \u001b[0mprinter\u001b[0m\u001b[1;33m(\u001b[0m\u001b[0mobj\u001b[0m\u001b[1;33m)\u001b[0m\u001b[1;33m\u001b[0m\u001b[1;33m\u001b[0m\u001b[0m\n\u001b[0m\u001b[0;32m    342\u001b[0m             \u001b[1;31m# Finally look for special method names\u001b[0m\u001b[1;33m\u001b[0m\u001b[1;33m\u001b[0m\u001b[1;33m\u001b[0m\u001b[0m\n\u001b[0;32m    343\u001b[0m             \u001b[0mmethod\u001b[0m \u001b[1;33m=\u001b[0m \u001b[0mget_real_method\u001b[0m\u001b[1;33m(\u001b[0m\u001b[0mobj\u001b[0m\u001b[1;33m,\u001b[0m \u001b[0mself\u001b[0m\u001b[1;33m.\u001b[0m\u001b[0mprint_method\u001b[0m\u001b[1;33m)\u001b[0m\u001b[1;33m\u001b[0m\u001b[1;33m\u001b[0m\u001b[0m\n",
      "\u001b[1;32m~\\anaconda33\\lib\\site-packages\\IPython\\core\\pylabtools.py\u001b[0m in \u001b[0;36m<lambda>\u001b[1;34m(fig)\u001b[0m\n\u001b[0;32m    246\u001b[0m \u001b[1;33m\u001b[0m\u001b[0m\n\u001b[0;32m    247\u001b[0m     \u001b[1;32mif\u001b[0m \u001b[1;34m'png'\u001b[0m \u001b[1;32min\u001b[0m \u001b[0mformats\u001b[0m\u001b[1;33m:\u001b[0m\u001b[1;33m\u001b[0m\u001b[1;33m\u001b[0m\u001b[0m\n\u001b[1;32m--> 248\u001b[1;33m         \u001b[0mpng_formatter\u001b[0m\u001b[1;33m.\u001b[0m\u001b[0mfor_type\u001b[0m\u001b[1;33m(\u001b[0m\u001b[0mFigure\u001b[0m\u001b[1;33m,\u001b[0m \u001b[1;32mlambda\u001b[0m \u001b[0mfig\u001b[0m\u001b[1;33m:\u001b[0m \u001b[0mprint_figure\u001b[0m\u001b[1;33m(\u001b[0m\u001b[0mfig\u001b[0m\u001b[1;33m,\u001b[0m \u001b[1;34m'png'\u001b[0m\u001b[1;33m,\u001b[0m \u001b[1;33m**\u001b[0m\u001b[0mkwargs\u001b[0m\u001b[1;33m)\u001b[0m\u001b[1;33m)\u001b[0m\u001b[1;33m\u001b[0m\u001b[1;33m\u001b[0m\u001b[0m\n\u001b[0m\u001b[0;32m    249\u001b[0m     \u001b[1;32mif\u001b[0m \u001b[1;34m'retina'\u001b[0m \u001b[1;32min\u001b[0m \u001b[0mformats\u001b[0m \u001b[1;32mor\u001b[0m \u001b[1;34m'png2x'\u001b[0m \u001b[1;32min\u001b[0m \u001b[0mformats\u001b[0m\u001b[1;33m:\u001b[0m\u001b[1;33m\u001b[0m\u001b[1;33m\u001b[0m\u001b[0m\n\u001b[0;32m    250\u001b[0m         \u001b[0mpng_formatter\u001b[0m\u001b[1;33m.\u001b[0m\u001b[0mfor_type\u001b[0m\u001b[1;33m(\u001b[0m\u001b[0mFigure\u001b[0m\u001b[1;33m,\u001b[0m \u001b[1;32mlambda\u001b[0m \u001b[0mfig\u001b[0m\u001b[1;33m:\u001b[0m \u001b[0mretina_figure\u001b[0m\u001b[1;33m(\u001b[0m\u001b[0mfig\u001b[0m\u001b[1;33m,\u001b[0m \u001b[1;33m**\u001b[0m\u001b[0mkwargs\u001b[0m\u001b[1;33m)\u001b[0m\u001b[1;33m)\u001b[0m\u001b[1;33m\u001b[0m\u001b[1;33m\u001b[0m\u001b[0m\n",
      "\u001b[1;32m~\\anaconda33\\lib\\site-packages\\IPython\\core\\pylabtools.py\u001b[0m in \u001b[0;36mprint_figure\u001b[1;34m(fig, fmt, bbox_inches, **kwargs)\u001b[0m\n\u001b[0;32m    130\u001b[0m         \u001b[0mFigureCanvasBase\u001b[0m\u001b[1;33m(\u001b[0m\u001b[0mfig\u001b[0m\u001b[1;33m)\u001b[0m\u001b[1;33m\u001b[0m\u001b[1;33m\u001b[0m\u001b[0m\n\u001b[0;32m    131\u001b[0m \u001b[1;33m\u001b[0m\u001b[0m\n\u001b[1;32m--> 132\u001b[1;33m     \u001b[0mfig\u001b[0m\u001b[1;33m.\u001b[0m\u001b[0mcanvas\u001b[0m\u001b[1;33m.\u001b[0m\u001b[0mprint_figure\u001b[0m\u001b[1;33m(\u001b[0m\u001b[0mbytes_io\u001b[0m\u001b[1;33m,\u001b[0m \u001b[1;33m**\u001b[0m\u001b[0mkw\u001b[0m\u001b[1;33m)\u001b[0m\u001b[1;33m\u001b[0m\u001b[1;33m\u001b[0m\u001b[0m\n\u001b[0m\u001b[0;32m    133\u001b[0m     \u001b[0mdata\u001b[0m \u001b[1;33m=\u001b[0m \u001b[0mbytes_io\u001b[0m\u001b[1;33m.\u001b[0m\u001b[0mgetvalue\u001b[0m\u001b[1;33m(\u001b[0m\u001b[1;33m)\u001b[0m\u001b[1;33m\u001b[0m\u001b[1;33m\u001b[0m\u001b[0m\n\u001b[0;32m    134\u001b[0m     \u001b[1;32mif\u001b[0m \u001b[0mfmt\u001b[0m \u001b[1;33m==\u001b[0m \u001b[1;34m'svg'\u001b[0m\u001b[1;33m:\u001b[0m\u001b[1;33m\u001b[0m\u001b[1;33m\u001b[0m\u001b[0m\n",
      "\u001b[1;32m~\\anaconda33\\lib\\site-packages\\matplotlib\\backend_bases.py\u001b[0m in \u001b[0;36mprint_figure\u001b[1;34m(self, filename, dpi, facecolor, edgecolor, orientation, format, bbox_inches, pad_inches, bbox_extra_artists, backend, **kwargs)\u001b[0m\n\u001b[0;32m   2193\u001b[0m                         \u001b[0mself\u001b[0m\u001b[1;33m.\u001b[0m\u001b[0mfigure\u001b[0m\u001b[1;33m.\u001b[0m\u001b[0mdraw\u001b[0m\u001b[1;33m(\u001b[0m\u001b[0mrenderer\u001b[0m\u001b[1;33m)\u001b[0m\u001b[1;33m\u001b[0m\u001b[1;33m\u001b[0m\u001b[0m\n\u001b[0;32m   2194\u001b[0m \u001b[1;33m\u001b[0m\u001b[0m\n\u001b[1;32m-> 2195\u001b[1;33m                     bbox_inches = self.figure.get_tightbbox(\n\u001b[0m\u001b[0;32m   2196\u001b[0m                         renderer, bbox_extra_artists=bbox_extra_artists)\n\u001b[0;32m   2197\u001b[0m                     \u001b[1;32mif\u001b[0m \u001b[0mpad_inches\u001b[0m \u001b[1;32mis\u001b[0m \u001b[1;32mNone\u001b[0m\u001b[1;33m:\u001b[0m\u001b[1;33m\u001b[0m\u001b[1;33m\u001b[0m\u001b[0m\n",
      "\u001b[1;32m~\\anaconda33\\lib\\site-packages\\matplotlib\\figure.py\u001b[0m in \u001b[0;36mget_tightbbox\u001b[1;34m(self, renderer, bbox_extra_artists)\u001b[0m\n\u001b[0;32m   2504\u001b[0m \u001b[1;33m\u001b[0m\u001b[0m\n\u001b[0;32m   2505\u001b[0m         \u001b[1;32mfor\u001b[0m \u001b[0ma\u001b[0m \u001b[1;32min\u001b[0m \u001b[0martists\u001b[0m\u001b[1;33m:\u001b[0m\u001b[1;33m\u001b[0m\u001b[1;33m\u001b[0m\u001b[0m\n\u001b[1;32m-> 2506\u001b[1;33m             \u001b[0mbbox\u001b[0m \u001b[1;33m=\u001b[0m \u001b[0ma\u001b[0m\u001b[1;33m.\u001b[0m\u001b[0mget_tightbbox\u001b[0m\u001b[1;33m(\u001b[0m\u001b[0mrenderer\u001b[0m\u001b[1;33m)\u001b[0m\u001b[1;33m\u001b[0m\u001b[1;33m\u001b[0m\u001b[0m\n\u001b[0m\u001b[0;32m   2507\u001b[0m             \u001b[1;32mif\u001b[0m \u001b[0mbbox\u001b[0m \u001b[1;32mis\u001b[0m \u001b[1;32mnot\u001b[0m \u001b[1;32mNone\u001b[0m \u001b[1;32mand\u001b[0m \u001b[1;33m(\u001b[0m\u001b[0mbbox\u001b[0m\u001b[1;33m.\u001b[0m\u001b[0mwidth\u001b[0m \u001b[1;33m!=\u001b[0m \u001b[1;36m0\u001b[0m \u001b[1;32mor\u001b[0m \u001b[0mbbox\u001b[0m\u001b[1;33m.\u001b[0m\u001b[0mheight\u001b[0m \u001b[1;33m!=\u001b[0m \u001b[1;36m0\u001b[0m\u001b[1;33m)\u001b[0m\u001b[1;33m:\u001b[0m\u001b[1;33m\u001b[0m\u001b[1;33m\u001b[0m\u001b[0m\n\u001b[0;32m   2508\u001b[0m                 \u001b[0mbb\u001b[0m\u001b[1;33m.\u001b[0m\u001b[0mappend\u001b[0m\u001b[1;33m(\u001b[0m\u001b[0mbbox\u001b[0m\u001b[1;33m)\u001b[0m\u001b[1;33m\u001b[0m\u001b[1;33m\u001b[0m\u001b[0m\n",
      "\u001b[1;32m~\\anaconda33\\lib\\site-packages\\matplotlib\\axes\\_base.py\u001b[0m in \u001b[0;36mget_tightbbox\u001b[1;34m(self, renderer, call_axes_locator, bbox_extra_artists, for_layout_only)\u001b[0m\n\u001b[0;32m   4151\u001b[0m             \u001b[1;32mif\u001b[0m \u001b[0mself\u001b[0m\u001b[1;33m.\u001b[0m\u001b[0mxaxis\u001b[0m\u001b[1;33m.\u001b[0m\u001b[0mget_visible\u001b[0m\u001b[1;33m(\u001b[0m\u001b[1;33m)\u001b[0m\u001b[1;33m:\u001b[0m\u001b[1;33m\u001b[0m\u001b[1;33m\u001b[0m\u001b[0m\n\u001b[0;32m   4152\u001b[0m                 \u001b[1;32mtry\u001b[0m\u001b[1;33m:\u001b[0m\u001b[1;33m\u001b[0m\u001b[1;33m\u001b[0m\u001b[0m\n\u001b[1;32m-> 4153\u001b[1;33m                     bb_xaxis = self.xaxis.get_tightbbox(\n\u001b[0m\u001b[0;32m   4154\u001b[0m                         renderer, for_layout_only=for_layout_only)\n\u001b[0;32m   4155\u001b[0m                 \u001b[1;32mexcept\u001b[0m \u001b[0mTypeError\u001b[0m\u001b[1;33m:\u001b[0m\u001b[1;33m\u001b[0m\u001b[1;33m\u001b[0m\u001b[0m\n",
      "\u001b[1;32m~\\anaconda33\\lib\\site-packages\\matplotlib\\axis.py\u001b[0m in \u001b[0;36mget_tightbbox\u001b[1;34m(self, renderer, for_layout_only)\u001b[0m\n\u001b[0;32m   1109\u001b[0m         \u001b[0mticks_to_draw\u001b[0m \u001b[1;33m=\u001b[0m \u001b[0mself\u001b[0m\u001b[1;33m.\u001b[0m\u001b[0m_update_ticks\u001b[0m\u001b[1;33m(\u001b[0m\u001b[1;33m)\u001b[0m\u001b[1;33m\u001b[0m\u001b[1;33m\u001b[0m\u001b[0m\n\u001b[0;32m   1110\u001b[0m \u001b[1;33m\u001b[0m\u001b[0m\n\u001b[1;32m-> 1111\u001b[1;33m         \u001b[0mself\u001b[0m\u001b[1;33m.\u001b[0m\u001b[0m_update_label_position\u001b[0m\u001b[1;33m(\u001b[0m\u001b[0mrenderer\u001b[0m\u001b[1;33m)\u001b[0m\u001b[1;33m\u001b[0m\u001b[1;33m\u001b[0m\u001b[0m\n\u001b[0m\u001b[0;32m   1112\u001b[0m \u001b[1;33m\u001b[0m\u001b[0m\n\u001b[0;32m   1113\u001b[0m         \u001b[1;31m# go back to just this axis's tick labels\u001b[0m\u001b[1;33m\u001b[0m\u001b[1;33m\u001b[0m\u001b[1;33m\u001b[0m\u001b[0m\n",
      "\u001b[1;32m~\\anaconda33\\lib\\site-packages\\matplotlib\\axis.py\u001b[0m in \u001b[0;36m_update_label_position\u001b[1;34m(self, renderer)\u001b[0m\n\u001b[0;32m   2059\u001b[0m         \u001b[1;31m# get bounding boxes for this axis and any siblings\u001b[0m\u001b[1;33m\u001b[0m\u001b[1;33m\u001b[0m\u001b[1;33m\u001b[0m\u001b[0m\n\u001b[0;32m   2060\u001b[0m         \u001b[1;31m# that have been set by `fig.align_xlabels()`\u001b[0m\u001b[1;33m\u001b[0m\u001b[1;33m\u001b[0m\u001b[1;33m\u001b[0m\u001b[0m\n\u001b[1;32m-> 2061\u001b[1;33m         \u001b[0mbboxes\u001b[0m\u001b[1;33m,\u001b[0m \u001b[0mbboxes2\u001b[0m \u001b[1;33m=\u001b[0m \u001b[0mself\u001b[0m\u001b[1;33m.\u001b[0m\u001b[0m_get_tick_boxes_siblings\u001b[0m\u001b[1;33m(\u001b[0m\u001b[0mrenderer\u001b[0m\u001b[1;33m=\u001b[0m\u001b[0mrenderer\u001b[0m\u001b[1;33m)\u001b[0m\u001b[1;33m\u001b[0m\u001b[1;33m\u001b[0m\u001b[0m\n\u001b[0m\u001b[0;32m   2062\u001b[0m \u001b[1;33m\u001b[0m\u001b[0m\n\u001b[0;32m   2063\u001b[0m         \u001b[0mx\u001b[0m\u001b[1;33m,\u001b[0m \u001b[0my\u001b[0m \u001b[1;33m=\u001b[0m \u001b[0mself\u001b[0m\u001b[1;33m.\u001b[0m\u001b[0mlabel\u001b[0m\u001b[1;33m.\u001b[0m\u001b[0mget_position\u001b[0m\u001b[1;33m(\u001b[0m\u001b[1;33m)\u001b[0m\u001b[1;33m\u001b[0m\u001b[1;33m\u001b[0m\u001b[0m\n",
      "\u001b[1;32m~\\anaconda33\\lib\\site-packages\\matplotlib\\axis.py\u001b[0m in \u001b[0;36m_get_tick_boxes_siblings\u001b[1;34m(self, renderer)\u001b[0m\n\u001b[0;32m   2044\u001b[0m         \u001b[1;32mfor\u001b[0m \u001b[0mnn\u001b[0m\u001b[1;33m,\u001b[0m \u001b[0maxx\u001b[0m \u001b[1;32min\u001b[0m \u001b[0menumerate\u001b[0m\u001b[1;33m(\u001b[0m\u001b[0mgrp\u001b[0m\u001b[1;33m.\u001b[0m\u001b[0mget_siblings\u001b[0m\u001b[1;33m(\u001b[0m\u001b[0mself\u001b[0m\u001b[1;33m.\u001b[0m\u001b[0maxes\u001b[0m\u001b[1;33m)\u001b[0m\u001b[1;33m)\u001b[0m\u001b[1;33m:\u001b[0m\u001b[1;33m\u001b[0m\u001b[1;33m\u001b[0m\u001b[0m\n\u001b[0;32m   2045\u001b[0m             \u001b[0mticks_to_draw\u001b[0m \u001b[1;33m=\u001b[0m \u001b[0maxx\u001b[0m\u001b[1;33m.\u001b[0m\u001b[0mxaxis\u001b[0m\u001b[1;33m.\u001b[0m\u001b[0m_update_ticks\u001b[0m\u001b[1;33m(\u001b[0m\u001b[1;33m)\u001b[0m\u001b[1;33m\u001b[0m\u001b[1;33m\u001b[0m\u001b[0m\n\u001b[1;32m-> 2046\u001b[1;33m             \u001b[0mtlb\u001b[0m\u001b[1;33m,\u001b[0m \u001b[0mtlb2\u001b[0m \u001b[1;33m=\u001b[0m \u001b[0maxx\u001b[0m\u001b[1;33m.\u001b[0m\u001b[0mxaxis\u001b[0m\u001b[1;33m.\u001b[0m\u001b[0m_get_tick_bboxes\u001b[0m\u001b[1;33m(\u001b[0m\u001b[0mticks_to_draw\u001b[0m\u001b[1;33m,\u001b[0m \u001b[0mrenderer\u001b[0m\u001b[1;33m)\u001b[0m\u001b[1;33m\u001b[0m\u001b[1;33m\u001b[0m\u001b[0m\n\u001b[0m\u001b[0;32m   2047\u001b[0m             \u001b[0mbboxes\u001b[0m\u001b[1;33m.\u001b[0m\u001b[0mextend\u001b[0m\u001b[1;33m(\u001b[0m\u001b[0mtlb\u001b[0m\u001b[1;33m)\u001b[0m\u001b[1;33m\u001b[0m\u001b[1;33m\u001b[0m\u001b[0m\n\u001b[0;32m   2048\u001b[0m             \u001b[0mbboxes2\u001b[0m\u001b[1;33m.\u001b[0m\u001b[0mextend\u001b[0m\u001b[1;33m(\u001b[0m\u001b[0mtlb2\u001b[0m\u001b[1;33m)\u001b[0m\u001b[1;33m\u001b[0m\u001b[1;33m\u001b[0m\u001b[0m\n",
      "\u001b[1;32m~\\anaconda33\\lib\\site-packages\\matplotlib\\axis.py\u001b[0m in \u001b[0;36m_get_tick_bboxes\u001b[1;34m(self, ticks, renderer)\u001b[0m\n\u001b[0;32m   1089\u001b[0m     \u001b[1;32mdef\u001b[0m \u001b[0m_get_tick_bboxes\u001b[0m\u001b[1;33m(\u001b[0m\u001b[0mself\u001b[0m\u001b[1;33m,\u001b[0m \u001b[0mticks\u001b[0m\u001b[1;33m,\u001b[0m \u001b[0mrenderer\u001b[0m\u001b[1;33m)\u001b[0m\u001b[1;33m:\u001b[0m\u001b[1;33m\u001b[0m\u001b[1;33m\u001b[0m\u001b[0m\n\u001b[0;32m   1090\u001b[0m         \u001b[1;34m\"\"\"Return lists of bboxes for ticks' label1's and label2's.\"\"\"\u001b[0m\u001b[1;33m\u001b[0m\u001b[1;33m\u001b[0m\u001b[0m\n\u001b[1;32m-> 1091\u001b[1;33m         return ([tick.label1.get_window_extent(renderer)\n\u001b[0m\u001b[0;32m   1092\u001b[0m                  for tick in ticks if tick.label1.get_visible()],\n\u001b[0;32m   1093\u001b[0m                 [tick.label2.get_window_extent(renderer)\n",
      "\u001b[1;32m~\\anaconda33\\lib\\site-packages\\matplotlib\\axis.py\u001b[0m in \u001b[0;36m<listcomp>\u001b[1;34m(.0)\u001b[0m\n\u001b[0;32m   1089\u001b[0m     \u001b[1;32mdef\u001b[0m \u001b[0m_get_tick_bboxes\u001b[0m\u001b[1;33m(\u001b[0m\u001b[0mself\u001b[0m\u001b[1;33m,\u001b[0m \u001b[0mticks\u001b[0m\u001b[1;33m,\u001b[0m \u001b[0mrenderer\u001b[0m\u001b[1;33m)\u001b[0m\u001b[1;33m:\u001b[0m\u001b[1;33m\u001b[0m\u001b[1;33m\u001b[0m\u001b[0m\n\u001b[0;32m   1090\u001b[0m         \u001b[1;34m\"\"\"Return lists of bboxes for ticks' label1's and label2's.\"\"\"\u001b[0m\u001b[1;33m\u001b[0m\u001b[1;33m\u001b[0m\u001b[0m\n\u001b[1;32m-> 1091\u001b[1;33m         return ([tick.label1.get_window_extent(renderer)\n\u001b[0m\u001b[0;32m   1092\u001b[0m                  for tick in ticks if tick.label1.get_visible()],\n\u001b[0;32m   1093\u001b[0m                 [tick.label2.get_window_extent(renderer)\n",
      "\u001b[1;32m~\\anaconda33\\lib\\site-packages\\matplotlib\\text.py\u001b[0m in \u001b[0;36mget_window_extent\u001b[1;34m(self, renderer, dpi)\u001b[0m\n\u001b[0;32m    900\u001b[0m \u001b[1;33m\u001b[0m\u001b[0m\n\u001b[0;32m    901\u001b[0m         \u001b[1;32mwith\u001b[0m \u001b[0mcbook\u001b[0m\u001b[1;33m.\u001b[0m\u001b[0m_setattr_cm\u001b[0m\u001b[1;33m(\u001b[0m\u001b[0mself\u001b[0m\u001b[1;33m.\u001b[0m\u001b[0mfigure\u001b[0m\u001b[1;33m,\u001b[0m \u001b[0mdpi\u001b[0m\u001b[1;33m=\u001b[0m\u001b[0mdpi\u001b[0m\u001b[1;33m)\u001b[0m\u001b[1;33m:\u001b[0m\u001b[1;33m\u001b[0m\u001b[1;33m\u001b[0m\u001b[0m\n\u001b[1;32m--> 902\u001b[1;33m             \u001b[0mbbox\u001b[0m\u001b[1;33m,\u001b[0m \u001b[0minfo\u001b[0m\u001b[1;33m,\u001b[0m \u001b[0mdescent\u001b[0m \u001b[1;33m=\u001b[0m \u001b[0mself\u001b[0m\u001b[1;33m.\u001b[0m\u001b[0m_get_layout\u001b[0m\u001b[1;33m(\u001b[0m\u001b[0mself\u001b[0m\u001b[1;33m.\u001b[0m\u001b[0m_renderer\u001b[0m\u001b[1;33m)\u001b[0m\u001b[1;33m\u001b[0m\u001b[1;33m\u001b[0m\u001b[0m\n\u001b[0m\u001b[0;32m    903\u001b[0m             \u001b[0mx\u001b[0m\u001b[1;33m,\u001b[0m \u001b[0my\u001b[0m \u001b[1;33m=\u001b[0m \u001b[0mself\u001b[0m\u001b[1;33m.\u001b[0m\u001b[0mget_unitless_position\u001b[0m\u001b[1;33m(\u001b[0m\u001b[1;33m)\u001b[0m\u001b[1;33m\u001b[0m\u001b[1;33m\u001b[0m\u001b[0m\n\u001b[0;32m    904\u001b[0m             \u001b[0mx\u001b[0m\u001b[1;33m,\u001b[0m \u001b[0my\u001b[0m \u001b[1;33m=\u001b[0m \u001b[0mself\u001b[0m\u001b[1;33m.\u001b[0m\u001b[0mget_transform\u001b[0m\u001b[1;33m(\u001b[0m\u001b[1;33m)\u001b[0m\u001b[1;33m.\u001b[0m\u001b[0mtransform\u001b[0m\u001b[1;33m(\u001b[0m\u001b[1;33m(\u001b[0m\u001b[0mx\u001b[0m\u001b[1;33m,\u001b[0m \u001b[0my\u001b[0m\u001b[1;33m)\u001b[0m\u001b[1;33m)\u001b[0m\u001b[1;33m\u001b[0m\u001b[1;33m\u001b[0m\u001b[0m\n",
      "\u001b[1;32m~\\anaconda33\\lib\\site-packages\\matplotlib\\text.py\u001b[0m in \u001b[0;36m_get_layout\u001b[1;34m(self, renderer)\u001b[0m\n\u001b[0;32m    293\u001b[0m             \u001b[0mclean_line\u001b[0m\u001b[1;33m,\u001b[0m \u001b[0mismath\u001b[0m \u001b[1;33m=\u001b[0m \u001b[0mself\u001b[0m\u001b[1;33m.\u001b[0m\u001b[0m_preprocess_math\u001b[0m\u001b[1;33m(\u001b[0m\u001b[0mline\u001b[0m\u001b[1;33m)\u001b[0m\u001b[1;33m\u001b[0m\u001b[1;33m\u001b[0m\u001b[0m\n\u001b[0;32m    294\u001b[0m             \u001b[1;32mif\u001b[0m \u001b[0mclean_line\u001b[0m\u001b[1;33m:\u001b[0m\u001b[1;33m\u001b[0m\u001b[1;33m\u001b[0m\u001b[0m\n\u001b[1;32m--> 295\u001b[1;33m                 w, h, d = renderer.get_text_width_height_descent(\n\u001b[0m\u001b[0;32m    296\u001b[0m                     clean_line, self._fontproperties, ismath=ismath)\n\u001b[0;32m    297\u001b[0m             \u001b[1;32melse\u001b[0m\u001b[1;33m:\u001b[0m\u001b[1;33m\u001b[0m\u001b[1;33m\u001b[0m\u001b[0m\n",
      "\u001b[1;32m~\\anaconda33\\lib\\site-packages\\matplotlib\\backends\\backend_agg.py\u001b[0m in \u001b[0;36mget_text_width_height_descent\u001b[1;34m(self, s, prop, ismath)\u001b[0m\n\u001b[0;32m    236\u001b[0m         \u001b[0mflags\u001b[0m \u001b[1;33m=\u001b[0m \u001b[0mget_hinting_flag\u001b[0m\u001b[1;33m(\u001b[0m\u001b[1;33m)\u001b[0m\u001b[1;33m\u001b[0m\u001b[1;33m\u001b[0m\u001b[0m\n\u001b[0;32m    237\u001b[0m         \u001b[0mfont\u001b[0m \u001b[1;33m=\u001b[0m \u001b[0mself\u001b[0m\u001b[1;33m.\u001b[0m\u001b[0m_get_agg_font\u001b[0m\u001b[1;33m(\u001b[0m\u001b[0mprop\u001b[0m\u001b[1;33m)\u001b[0m\u001b[1;33m\u001b[0m\u001b[1;33m\u001b[0m\u001b[0m\n\u001b[1;32m--> 238\u001b[1;33m         \u001b[0mfont\u001b[0m\u001b[1;33m.\u001b[0m\u001b[0mset_text\u001b[0m\u001b[1;33m(\u001b[0m\u001b[0ms\u001b[0m\u001b[1;33m,\u001b[0m \u001b[1;36m0.0\u001b[0m\u001b[1;33m,\u001b[0m \u001b[0mflags\u001b[0m\u001b[1;33m=\u001b[0m\u001b[0mflags\u001b[0m\u001b[1;33m)\u001b[0m\u001b[1;33m\u001b[0m\u001b[1;33m\u001b[0m\u001b[0m\n\u001b[0m\u001b[0;32m    239\u001b[0m         \u001b[0mw\u001b[0m\u001b[1;33m,\u001b[0m \u001b[0mh\u001b[0m \u001b[1;33m=\u001b[0m \u001b[0mfont\u001b[0m\u001b[1;33m.\u001b[0m\u001b[0mget_width_height\u001b[0m\u001b[1;33m(\u001b[0m\u001b[1;33m)\u001b[0m  \u001b[1;31m# width and height of unrotated string\u001b[0m\u001b[1;33m\u001b[0m\u001b[1;33m\u001b[0m\u001b[0m\n\u001b[0;32m    240\u001b[0m         \u001b[0md\u001b[0m \u001b[1;33m=\u001b[0m \u001b[0mfont\u001b[0m\u001b[1;33m.\u001b[0m\u001b[0mget_descent\u001b[0m\u001b[1;33m(\u001b[0m\u001b[1;33m)\u001b[0m\u001b[1;33m\u001b[0m\u001b[1;33m\u001b[0m\u001b[0m\n",
      "\u001b[1;31mKeyboardInterrupt\u001b[0m: "
     ]
    }
   ],
   "source": [
    "g= sns.scatterplot(data=df, x=\"poem_text\", y=\"poem_text\", hue=kmeans.labels_ )"
   ]
  },
  {
   "cell_type": "markdown",
   "metadata": {
    "id": "Q8-2rPgLEsUR"
   },
   "source": [
    "## Hierarchical Clustering"
   ]
  },
  {
   "cell_type": "code",
   "execution_count": 120,
   "metadata": {
    "colab": {
     "base_uri": "https://localhost:8080/",
     "height": 232
    },
    "id": "IzE_5f7FE569",
    "outputId": "d6afa56d-24a6-426b-bf6d-31cf13be6478"
   },
   "outputs": [
    {
     "ename": "MemoryError",
     "evalue": "Unable to allocate 175. GiB for an array with shape (47110, 497985) and data type float64",
     "output_type": "error",
     "traceback": [
      "\u001b[1;31m---------------------------------------------------------------------------\u001b[0m",
      "\u001b[1;31mMemoryError\u001b[0m                               Traceback (most recent call last)",
      "\u001b[1;32m<ipython-input-120-9b60a4409664>\u001b[0m in \u001b[0;36m<module>\u001b[1;34m\u001b[0m\n\u001b[0;32m      1\u001b[0m \u001b[1;32mfrom\u001b[0m \u001b[0mtime\u001b[0m \u001b[1;32mimport\u001b[0m \u001b[0mtime\u001b[0m\u001b[1;33m\u001b[0m\u001b[1;33m\u001b[0m\u001b[0m\n\u001b[0;32m      2\u001b[0m \u001b[1;32mfrom\u001b[0m \u001b[0msklearn\u001b[0m\u001b[1;33m.\u001b[0m\u001b[0mcluster\u001b[0m \u001b[1;32mimport\u001b[0m \u001b[0mAgglomerativeClustering\u001b[0m\u001b[1;33m\u001b[0m\u001b[1;33m\u001b[0m\u001b[0m\n\u001b[1;32m----> 3\u001b[1;33m \u001b[0mX\u001b[0m\u001b[1;33m=\u001b[0m\u001b[0mX\u001b[0m\u001b[1;33m.\u001b[0m\u001b[0mtodense\u001b[0m\u001b[1;33m(\u001b[0m\u001b[1;33m)\u001b[0m\u001b[1;33m\u001b[0m\u001b[1;33m\u001b[0m\u001b[0m\n\u001b[0m\u001b[0;32m      4\u001b[0m \u001b[1;33m\u001b[0m\u001b[0m\n\u001b[0;32m      5\u001b[0m \u001b[1;32mfor\u001b[0m \u001b[0mlinkage\u001b[0m \u001b[1;32min\u001b[0m \u001b[1;33m(\u001b[0m\u001b[1;34m'ward'\u001b[0m\u001b[1;33m,\u001b[0m \u001b[1;34m'average'\u001b[0m\u001b[1;33m,\u001b[0m \u001b[1;34m'complete'\u001b[0m\u001b[1;33m)\u001b[0m\u001b[1;33m:\u001b[0m\u001b[1;33m\u001b[0m\u001b[1;33m\u001b[0m\u001b[0m\n",
      "\u001b[1;32m~\\anaconda33\\lib\\site-packages\\scipy\\sparse\\base.py\u001b[0m in \u001b[0;36mtodense\u001b[1;34m(self, order, out)\u001b[0m\n\u001b[0;32m    862\u001b[0m             \u001b[0;31m`\u001b[0m\u001b[0mnumpy\u001b[0m\u001b[1;33m.\u001b[0m\u001b[0mmatrix\u001b[0m\u001b[0;31m`\u001b[0m \u001b[0mobject\u001b[0m \u001b[0mthat\u001b[0m \u001b[0mshares\u001b[0m \u001b[0mthe\u001b[0m \u001b[0msame\u001b[0m \u001b[0mmemory\u001b[0m\u001b[1;33m.\u001b[0m\u001b[1;33m\u001b[0m\u001b[1;33m\u001b[0m\u001b[0m\n\u001b[0;32m    863\u001b[0m         \"\"\"\n\u001b[1;32m--> 864\u001b[1;33m         \u001b[1;32mreturn\u001b[0m \u001b[0masmatrix\u001b[0m\u001b[1;33m(\u001b[0m\u001b[0mself\u001b[0m\u001b[1;33m.\u001b[0m\u001b[0mtoarray\u001b[0m\u001b[1;33m(\u001b[0m\u001b[0morder\u001b[0m\u001b[1;33m=\u001b[0m\u001b[0morder\u001b[0m\u001b[1;33m,\u001b[0m \u001b[0mout\u001b[0m\u001b[1;33m=\u001b[0m\u001b[0mout\u001b[0m\u001b[1;33m)\u001b[0m\u001b[1;33m)\u001b[0m\u001b[1;33m\u001b[0m\u001b[1;33m\u001b[0m\u001b[0m\n\u001b[0m\u001b[0;32m    865\u001b[0m \u001b[1;33m\u001b[0m\u001b[0m\n\u001b[0;32m    866\u001b[0m     \u001b[1;32mdef\u001b[0m \u001b[0mtoarray\u001b[0m\u001b[1;33m(\u001b[0m\u001b[0mself\u001b[0m\u001b[1;33m,\u001b[0m \u001b[0morder\u001b[0m\u001b[1;33m=\u001b[0m\u001b[1;32mNone\u001b[0m\u001b[1;33m,\u001b[0m \u001b[0mout\u001b[0m\u001b[1;33m=\u001b[0m\u001b[1;32mNone\u001b[0m\u001b[1;33m)\u001b[0m\u001b[1;33m:\u001b[0m\u001b[1;33m\u001b[0m\u001b[1;33m\u001b[0m\u001b[0m\n",
      "\u001b[1;32m~\\anaconda33\\lib\\site-packages\\scipy\\sparse\\compressed.py\u001b[0m in \u001b[0;36mtoarray\u001b[1;34m(self, order, out)\u001b[0m\n\u001b[0;32m   1029\u001b[0m         \u001b[1;32mif\u001b[0m \u001b[0mout\u001b[0m \u001b[1;32mis\u001b[0m \u001b[1;32mNone\u001b[0m \u001b[1;32mand\u001b[0m \u001b[0morder\u001b[0m \u001b[1;32mis\u001b[0m \u001b[1;32mNone\u001b[0m\u001b[1;33m:\u001b[0m\u001b[1;33m\u001b[0m\u001b[1;33m\u001b[0m\u001b[0m\n\u001b[0;32m   1030\u001b[0m             \u001b[0morder\u001b[0m \u001b[1;33m=\u001b[0m \u001b[0mself\u001b[0m\u001b[1;33m.\u001b[0m\u001b[0m_swap\u001b[0m\u001b[1;33m(\u001b[0m\u001b[1;34m'cf'\u001b[0m\u001b[1;33m)\u001b[0m\u001b[1;33m[\u001b[0m\u001b[1;36m0\u001b[0m\u001b[1;33m]\u001b[0m\u001b[1;33m\u001b[0m\u001b[1;33m\u001b[0m\u001b[0m\n\u001b[1;32m-> 1031\u001b[1;33m         \u001b[0mout\u001b[0m \u001b[1;33m=\u001b[0m \u001b[0mself\u001b[0m\u001b[1;33m.\u001b[0m\u001b[0m_process_toarray_args\u001b[0m\u001b[1;33m(\u001b[0m\u001b[0morder\u001b[0m\u001b[1;33m,\u001b[0m \u001b[0mout\u001b[0m\u001b[1;33m)\u001b[0m\u001b[1;33m\u001b[0m\u001b[1;33m\u001b[0m\u001b[0m\n\u001b[0m\u001b[0;32m   1032\u001b[0m         \u001b[1;32mif\u001b[0m \u001b[1;32mnot\u001b[0m \u001b[1;33m(\u001b[0m\u001b[0mout\u001b[0m\u001b[1;33m.\u001b[0m\u001b[0mflags\u001b[0m\u001b[1;33m.\u001b[0m\u001b[0mc_contiguous\u001b[0m \u001b[1;32mor\u001b[0m \u001b[0mout\u001b[0m\u001b[1;33m.\u001b[0m\u001b[0mflags\u001b[0m\u001b[1;33m.\u001b[0m\u001b[0mf_contiguous\u001b[0m\u001b[1;33m)\u001b[0m\u001b[1;33m:\u001b[0m\u001b[1;33m\u001b[0m\u001b[1;33m\u001b[0m\u001b[0m\n\u001b[0;32m   1033\u001b[0m             \u001b[1;32mraise\u001b[0m \u001b[0mValueError\u001b[0m\u001b[1;33m(\u001b[0m\u001b[1;34m'Output array must be C or F contiguous'\u001b[0m\u001b[1;33m)\u001b[0m\u001b[1;33m\u001b[0m\u001b[1;33m\u001b[0m\u001b[0m\n",
      "\u001b[1;32m~\\anaconda33\\lib\\site-packages\\scipy\\sparse\\base.py\u001b[0m in \u001b[0;36m_process_toarray_args\u001b[1;34m(self, order, out)\u001b[0m\n\u001b[0;32m   1200\u001b[0m             \u001b[1;32mreturn\u001b[0m \u001b[0mout\u001b[0m\u001b[1;33m\u001b[0m\u001b[1;33m\u001b[0m\u001b[0m\n\u001b[0;32m   1201\u001b[0m         \u001b[1;32melse\u001b[0m\u001b[1;33m:\u001b[0m\u001b[1;33m\u001b[0m\u001b[1;33m\u001b[0m\u001b[0m\n\u001b[1;32m-> 1202\u001b[1;33m             \u001b[1;32mreturn\u001b[0m \u001b[0mnp\u001b[0m\u001b[1;33m.\u001b[0m\u001b[0mzeros\u001b[0m\u001b[1;33m(\u001b[0m\u001b[0mself\u001b[0m\u001b[1;33m.\u001b[0m\u001b[0mshape\u001b[0m\u001b[1;33m,\u001b[0m \u001b[0mdtype\u001b[0m\u001b[1;33m=\u001b[0m\u001b[0mself\u001b[0m\u001b[1;33m.\u001b[0m\u001b[0mdtype\u001b[0m\u001b[1;33m,\u001b[0m \u001b[0morder\u001b[0m\u001b[1;33m=\u001b[0m\u001b[0morder\u001b[0m\u001b[1;33m)\u001b[0m\u001b[1;33m\u001b[0m\u001b[1;33m\u001b[0m\u001b[0m\n\u001b[0m\u001b[0;32m   1203\u001b[0m \u001b[1;33m\u001b[0m\u001b[0m\n\u001b[0;32m   1204\u001b[0m \u001b[1;33m\u001b[0m\u001b[0m\n",
      "\u001b[1;31mMemoryError\u001b[0m: Unable to allocate 175. GiB for an array with shape (47110, 497985) and data type float64"
     ]
    }
   ],
   "source": [
    "from time import time\n",
    "from sklearn.cluster import AgglomerativeClustering\n",
    "X=X.todense()\n",
    "\n",
    "for linkage in ('ward', 'average', 'complete'):\n",
    "    clustering = AgglomerativeClustering(linkage=linkage, n_clusters=3)\n",
    "    t0 = time()\n",
    "    clustering.fit(X)\n",
    "    print(\"%s : %.2fs\" % (linkage, time() - t0))\n",
    "  \n",
    "    # x,y = zip(*X)\n",
    "    # plt.figure(dpi=200)\n",
    "    # plt.scatter(x,y,c=plt.cm.rainbow(clustering.labels_*20),s=14)\n",
    "    # plt.title(\"Linkage Type: %s\" % linkage)"
   ]
  },
  {
   "cell_type": "code",
   "execution_count": null,
   "metadata": {
    "id": "a6ZHn0bKnBhL"
   },
   "outputs": [],
   "source": []
  }
 ],
 "metadata": {
  "colab": {
   "name": "nlp-saudi-news.ipynb",
   "provenance": []
  },
  "kernelspec": {
   "display_name": "Python 3",
   "language": "python",
   "name": "python3"
  },
  "language_info": {
   "codemirror_mode": {
    "name": "ipython",
    "version": 3
   },
   "file_extension": ".py",
   "mimetype": "text/x-python",
   "name": "python",
   "nbconvert_exporter": "python",
   "pygments_lexer": "ipython3",
   "version": "3.8.8"
  }
 },
 "nbformat": 4,
 "nbformat_minor": 1
}
