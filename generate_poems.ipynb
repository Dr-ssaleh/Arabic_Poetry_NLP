{
 "cells": [
  {
   "cell_type": "code",
   "execution_count": 4,
   "metadata": {},
   "outputs": [],
   "source": [
    "import rhymes\n",
    "import markovify\n",
    "from tqdm import tqdm"
   ]
  },
  {
   "cell_type": "code",
   "execution_count": 5,
   "metadata": {},
   "outputs": [],
   "source": [
    "def markov(text_file):\n",
    "    with open(text_file, 'r', encoding='utf-8') as f:\n",
    "        text = f.read()\n",
    "    text_model = markovify.NewlineText(text)\n",
    "    return text_model"
   ]
  },
  {
   "cell_type": "code",
   "execution_count": 8,
   "metadata": {},
   "outputs": [
    {
     "name": "stdout",
     "output_type": "stream",
     "text": [
      "بعيدة ما بين يدي والسنان\n",
      "وقد استقدت من الهوى ثقل ما تحوي مآزره\n",
      "وجه له من الصلبان\n",
      "يزيد على مرّ الحوادث صبره\n",
      "ليس لديه ليس من دهر على ثقة من دهره وأمان\n",
      "لم يجد المذهب عن قدره\n",
      "فلا الحمد مكسوبا ولا المال الكريم من الهوان\n",
      "فإنّك من قبلها فأنشره\n",
      "ومنعفر لنصل السيف فيه اثنان\n",
      "تحاول نفس ملك الروم ناظره\n",
      "نبكّي لموتانا على غير منصور وغير معان\n",
      "بكلّ منصلت ما زال يجمع نفسه في زوره\n",
      "وأعيا دواء الموت كلّ جبان\n",
      "ويحتجّ في ترك غيره\n",
      "والشكر من قبل الأوان\n",
      "كأنّي دحوت الأرض من جثث القتلى حوافره\n",
      "تذري اللقان غبارا في مكان دخان\n",
      "بنا منك فوق الرمل ما بك في جحفل ستر العيون غباره\n",
      "بلا كلّ سمع حوله وعيان\n",
      "ينسى بها ما كان من قبل نشره\n",
      "\n"
     ]
    }
   ],
   "source": [
    "\n",
    "x = generate_poem_2_rhymes(\n",
    "                            'المتنبي',\n",
    "                            'ان',\n",
    "                            'ره',\n",
    "                            iterations=3000,\n",
    "                            use_tqdm=False\n",
    "                            )\n",
    "print(x)"
   ]
  },
  {
   "cell_type": "code",
   "execution_count": 11,
   "metadata": {},
   "outputs": [
    {
     "name": "stdout",
     "output_type": "stream",
     "text": [
      "يالايـمـي فــي حـبــه اش اش ثـم اش\n",
      "يا خلوج جاوبت في حشا صدري حواري\n",
      "إمخلدٍ في سنام طويق يزرع لك من الياقوت وابيض من الشاش\n",
      "قيصر من فوق صاري\n",
      "\n"
     ]
    }
   ],
   "source": [
    "\n",
    "x = generate_poem_2_rhymes(\n",
    "                            'جزل4',\n",
    "                            'اش',\n",
    "                            'ري',\n",
    "                            iterations=3000,\n",
    "                            use_tqdm=False\n",
    "                            )\n",
    "print(x)"
   ]
  }
 ],
 "metadata": {
  "kernelspec": {
   "display_name": "Python 3",
   "language": "python",
   "name": "python3"
  },
  "language_info": {
   "codemirror_mode": {
    "name": "ipython",
    "version": 3
   },
   "file_extension": ".py",
   "mimetype": "text/x-python",
   "name": "python",
   "nbconvert_exporter": "python",
   "pygments_lexer": "ipython3",
   "version": "3.8.8"
  }
 },
 "nbformat": 4,
 "nbformat_minor": 4
}
